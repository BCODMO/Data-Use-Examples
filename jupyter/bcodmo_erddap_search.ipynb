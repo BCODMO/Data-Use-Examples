{
 "cells": [
  {
   "cell_type": "markdown",
   "metadata": {},
   "source": [
    "## Query BCO-DMO ERDDAP and plot\n",
    "ERDDAP rich responses and RESTful API is makes it a convenient way to serve and access data.\n",
    "\n",
    "This notebook was built using the example [IOOS erddapy notebook](https://github.com/ioos/notebooks_demos/blob/master/notebooks/2018-03-01-erddapy.ipynb).\n",
    "\n",
    "Author: Mathew Biddle (mbiddle@whoi.edu)"
   ]
  },
  {
   "cell_type": "markdown",
   "metadata": {},
   "source": [
    "### First off, we need to import some libraries to make this all work:"
   ]
  },
  {
   "cell_type": "code",
   "execution_count": 1,
   "metadata": {},
   "outputs": [],
   "source": [
    "from erddapy import ERDDAP\n",
    "from IPython.display import display,clear_output\n",
    "import pandas as pd\n",
    "import numpy as np\n",
    "import ipywidgets\n",
    "import sys\n",
    "import requests\n",
    "%matplotlib inline"
   ]
  },
  {
   "cell_type": "markdown",
   "metadata": {},
   "source": [
    "### Now we start building the ERDDAP query\n",
    "Using erddapy, a user can build URLs programmatically.\n",
    "  \n",
    "Here we simply build the ERDDAP query for the entire BCO-DMO ERDDAP."
   ]
  },
  {
   "cell_type": "code",
   "execution_count": 2,
   "metadata": {},
   "outputs": [],
   "source": [
    "server='http://erddap.bco-dmo.org/erddap'\n",
    "e = ERDDAP(\n",
    "    server=server,\n",
    "    protocol='tabledap'\n",
    "    ) "
   ]
  },
  {
   "cell_type": "markdown",
   "metadata": {},
   "source": [
    "### Use BCO-DMO ERDDAP to start narrowing down the search\n",
    "This section builds out a Category dropdown, which the user selects. \n",
    "* Another table is dynamically build based on the requested Category. \n",
    "* The user can select multiple terms (using ctl+click or SHIFT+click) from the specifiec Category, as needed."
   ]
  },
  {
   "cell_type": "code",
   "execution_count": 3,
   "metadata": {
    "scrolled": true
   },
   "outputs": [
    {
     "data": {
      "application/vnd.jupyter.widget-view+json": {
       "model_id": "feefae541baa4a23b4e3ad0928cfcc3c",
       "version_major": 2,
       "version_minor": 0
      },
      "text/html": [
       "<p>Failed to display Jupyter Widget of type <code>Dropdown</code>.</p>\n",
       "<p>\n",
       "  If you're reading this message in the Jupyter Notebook or JupyterLab Notebook, it may mean\n",
       "  that the widgets JavaScript is still loading. If this message persists, it\n",
       "  likely means that the widgets JavaScript library is either not installed or\n",
       "  not enabled. See the <a href=\"https://ipywidgets.readthedocs.io/en/stable/user_install.html\">Jupyter\n",
       "  Widgets Documentation</a> for setup instructions.\n",
       "</p>\n",
       "<p>\n",
       "  If you're reading this message in another frontend (for example, a static\n",
       "  rendering on GitHub or <a href=\"https://nbviewer.jupyter.org/\">NBViewer</a>),\n",
       "  it may mean that your frontend doesn't currently support widgets.\n",
       "</p>\n"
      ],
      "text/plain": [
       "Dropdown(description='Category:', options=('keywords', 'long_name', 'standard_name', 'variableName'), value='keywords')"
      ]
     },
     "metadata": {},
     "output_type": "display_data"
    },
    {
     "data": {
      "application/vnd.jupyter.widget-view+json": {
       "model_id": "34f7f04f7a6f430a96f2386e7a9a60cd",
       "version_major": 2,
       "version_minor": 0
      },
      "text/html": [
       "<p>Failed to display Jupyter Widget of type <code>SelectMultiple</code>.</p>\n",
       "<p>\n",
       "  If you're reading this message in the Jupyter Notebook or JupyterLab Notebook, it may mean\n",
       "  that the widgets JavaScript is still loading. If this message persists, it\n",
       "  likely means that the widgets JavaScript library is either not installed or\n",
       "  not enabled. See the <a href=\"https://ipywidgets.readthedocs.io/en/stable/user_install.html\">Jupyter\n",
       "  Widgets Documentation</a> for setup instructions.\n",
       "</p>\n",
       "<p>\n",
       "  If you're reading this message in another frontend (for example, a static\n",
       "  rendering on GitHub or <a href=\"https://nbviewer.jupyter.org/\">NBViewer</a>),\n",
       "  it may mean that your frontend doesn't currently support widgets.\n",
       "</p>\n"
      ],
      "text/plain": [
       "SelectMultiple(description='keywords:', layout=Layout(height='200px', width='100%'), options=('0d8um', '0pt2um', '10um', '1100uatm', '1419tri', '14528tet', '15um', '18144tri', '1e06', '1w7', '1w9c', '1w9t', '20um', '21378tri', '23415tet', '23889tri', '25362tri', '25632tet', '25745tet', '25mm', '29109tet', '2ml', '2ms', '2um', '3ml', '4w6', '50l', '5w3', '5w6', '6231tet', '6266tri', '6326tet', '6w3', '6w6', '750uatm', '8um', '95pcnt', '985tet', 'a11', 'a13', 'a15', 'a17', 'a19', 'a254', 'a254_doc', 'a3_s_fitti', 'a635', 'a665', 'a668', 'a_to_c_peak', 'a_to_m_peak', 'a_to_t_peak', 'aa_phosphate', 'aa_silicate', 'abs', 'absence', 'absolute', 'absolute_concentration_eggs', 'absolute_concentration_spawning_adult', 'absorption', 'abun', 'abund', 'abund_integ', 'abund_m2', 'abund_m3', 'abundance', 'abundance_species', 'abundance_total', 'acanthaster', 'acanthaster_id', 'acanthaster_origin', 'acanthias', 'accelation', 'acceleration', 'acceleration_t0', 'acceleration_t10ms', 'acceleration_t16ms', 'acceleration_t1point5ms', 'acceleration_t20ms', 'acceleration_t2ms', 'acceleration_t4ms', 'acceleration_t6ms', 'acceleration_t8ms', 'accession', 'accession_16s', 'accession_coi', 'accession_h3', 'accession_link', 'accession_number', 'accession_numbers', 'acclimatisation', 'accompanying', 'accompanying_ancillary_data', 'accuracy', 'acetate', 'acid', 'acropora', 'acropora2', 'acropora_colonies', 'acropora_interspecific_interactions', 'acropora_pocillopora_interactions', 'acroporathicket', 'acroporathicket2', 'act', 'action', 'active', 'activity', 'actual', 'actual_depth', 'added', 'added_mass', 'addition', 'address', 'adenosine_5prime_triphosphate', 'adj', 'adj_count', 'adj_growth', 'adult', 'adult_collection_site', 'adults', 'aeglefinus', 'aeps', 'aerodynamic', 'aerosol', 'afdm', 'afdm_wm_ratio', 'afl', 'after', 'ag110m', 'ag110m_conc_dry', 'ag_lpt_conc_pump', 'ag_lpt_conc_pump_qv_odv', 'ag_lpt_conc_pump_stdev', 'ag_spt_conc_pump', 'ag_spt_conc_pump_qv_odv', 'ag_spt_conc_pump_stdev', 'agaricia', 'agarum', 'agarum_clathratum_density', 'age', 'agg', 'agg_num_per_tank', 'agg_size', 'agg_species', 'aggregate', 'aggregate_byrozoan', 'air', 'air2', 'air_press', 'air_pressure', 'air_temp', 'air_vol_total', 'airbrush', 'akashiwo', 'al_flag', 'al_hac_l_avg_aerosol', 'al_hac_l_qf_aerosol', 'al_hac_l_var_aerosol', 'al_lpt_conc_pump', 'al_lpt_conc_pump_qv_odv', 'al_lpt_conc_pump_stdev', 'al_spt_conc_pump', 'al_spt_conc_pump_qv_odv', 'al_spt_conc_pump_stdev', 'al_tp_conc_avg_aerosol', 'al_tp_conc_bottle', 'al_tp_conc_bottle_stdev', 'al_tp_conc_qf_aerosol', 'al_tp_conc_var_aerosol', 'ala', 'ala_d15n', 'ala_st_dev', 'ala_stdev', 'alanine', 'albidus', 'alex', 'alex_live', 'alexandrium', 'alexandrium_sp', 'algae', 'algae_initial', 'algae_pcntcoverchange', 'algal', 'algal_area_c', 'algal_area_o2', 'aliquot', 'alive', 'alk', 'alk_stdev', 'alkalinity', 'alkalinity_mm', 'alkalinity_mol_kg', 'alkalinity_umol_kg', 'all', 'all_crowded', 'all_difference', 'all_isolated', 'all_mean', 'all_mycetophylla', 'all_se', 'allelic', 'allelic_richness', 'allo', 'allo_corr', 'allox', 'allsort', 'allsort_flag', 'along', 'alpha', 'alpha_carotene', 'alt_cruise_id', 'alteromonas', 'altim', 'altimetry', 'altitude', 'altitude_units', 'altm', 'americanus', 'aminoethylphosphonic', 'ammonia', 'ammonium', 'ammonium_oo_diethyldithiophosphate', 'ammonium_polyphosphate', 'ammonium_sd', 'ammonium_sulfate', 'amo', 'amount', 'amount_grams_consumed', 'amount_mg_consumed', 'amount_mg_consumed_cm2_day_t10', 'amount_mg_consumed_cm2_day_t15', 'amount_mg_consumed_cm2_day_t20', 'amount_mg_consumed_cm2_day_t5', 'amount_mg_consumed_d_gram_urchin', 'amount_mg_consumed_day', 'amount_mg_consumed_day_t10', 'amount_mg_consumed_day_t15', 'amount_mg_consumed_day_t20', 'amount_mg_consumed_day_t5', 'amount_mg_consumed_t10', 'amount_mg_consumed_t15', 'amount_mg_consumed_t20', 'amount_mg_consumed_t5', 'amphipod', 'amu', 'analysis', 'analysis_lab', 'analysis_methods', 'analysis_name', 'anammox', 'ancillary', 'anemone', 'ang', 'angle', 'angle_2theta', 'anme1', 'anme1_replicate_1', 'anme1_replicate_2', 'annotation', 'annularis', 'anomaly', 'anteiso', 'anteiso_c13', 'anteiso_c15', 'anteiso_c17', 'anth', 'anther', 'antillogorgia', 'antillogorgiaabundance_mean', 'antillogorgiaabundance_se', 'antillogorgiacover_mean', 'antillogorgiacover_se', 'aoa', 'aoa_amoa', 'aoato', 'aob', 'aob_amoa', 'aom', 'aom_rate', 'aou', 'apc', 'apparent', 'approach', 'approach_duration', 'approx', 'approx_time', 'aquosus', 'ar2', 'ar_conc', 'ar_conc2', 'ar_conc_secondary', 'ar_conc_secondary2', 'ar_flag', 'ar_sat', 'ar_sat_stdev', 'ar_stdev', 'arag', 'arag_sat', 'aragonite', 'aragonite_saturation_state', 'archaea', 'archaea_replicate_1', 'archaea_replicate_2', 'area', 'area_end', 'area_net', 'area_t0', 'arg', 'arg_st_dev', 'arginine', 'argosid', 'arm', 'array', 'array-data', 'arrival', 'arrival_day', 'arrival_month', 'arrival_year', 'arsat', 'arsat2', 'arsat_secondary', 'arsat_secondary2', 'artemia', 'artemia_consumed_ttl', 'artemia_gtw', 'artemia_polyp', 'ascidian', 'ash', 'ash_free_dry_mass', 'ash_stdev', 'asp', 'asp_d15n', 'aspartic', 'aspartic_acid', 'assay', 'assembly', 'astreoides', 'astreopora', 'asx', 'asx_st_dev', 'asx_stdev', 'asym', 'asymsym', 'at0', 'atmosphere', 'atmosphere_altitude_station_height', 'atmosphere_atmospheric_pressure_atmospheric_pressure_measurements', 'atmosphere_atmospheric_pressure_sea_level_pressure', 'atmosphere_atmospheric_pressure_static_pressure', 'atmosphere_atmospheric_winds_surface_winds', 'atmosphere_clouds_cloud_amount_frequency', 'atmosphere_precipitation_liquid_water_equivalent', 'atmosphere_precipitation_precipitation_rate', 'atmospheric', 'atomic', 'att', 'attached', 'attached_blankcorrected', 'attack', 'attack_rate', 'atten', 'austral', 'austral_year', 'author', 'available', 'ave', 'ave_correction_factor_t10', 'ave_correction_factor_t15', 'ave_correction_factor_t20', 'ave_correction_factor_t5', 'ave_pot_dnf', 'ave_pot_dnf_se', 'average', 'average_days_survived', 'average_fishing_days_per_week', 'average_source', 'average_trophic', 'avg_a', 'avg_anammox', 'avg_anammox_se', 'avg_d', 'avg_d15', 'avg_d15_se', 'avg_dnf', 'avg_dnf_se', 'avg_dnra', 'avg_dnra_se', 'avg_p14', 'avg_p14_se', 'avg_ra_percent', 'avg_salinity', 'avg_salinity_se', 'avg_sediment_chla', 'avg_sediment_chla_se', 'avg_sound_vel_cm', 'avg_sound_vel_dm', 'avg_sound_vel_wm', 'avg_temperature', 'avg_temperature_se', 'avg_watercolumn_chla', 'avg_watercolumn_chla_se', 'avg_watercolumn_nh4', 'avg_watercolumn_nh4_se', 'avg_watercolumn_nox', 'avg_watercolumn_nox_se', 'avg_watercolumn_po4', 'avg_watercolumn_po4_se', 'axial', 'azimuth', 'b2_s_psygmophilium', 'b_car', 'b_density', 'b_salinity', 'ba_138_td_delta_bottle', 'ba_138_td_delta_bottle_stdev', 'ba_138_tp_delta_bottle', 'ba_138_tp_delta_bottle_stdev', 'ba_lpt_conc_pump', 'ba_lpt_conc_pump_qv_odv', 'ba_lpt_conc_pump_stdev', 'ba_spt_conc_pump', 'ba_spt_conc_pump_qv_odv', 'ba_spt_conc_pump_stdev', 'ba_td_conc_bottle', 'ba_td_conc_bottle_stdev', 'ba_tp_conc_bottle', 'ba_tp_conc_bottle_stdev', 'bac', 'bac_plank', 'bacgrazing_coefficient_mean', 'bacgrowth_constant_mean', 'bact', 'bact_abun', 'bact_abun_x10e6_avg', 'bact_abun_x10e6_stderr', 'bact_abun_x10e6_stdev', 'bact_biomass_c', 'bact_biomass_mgc_m3', 'bact_biomass_umc', 'bacteria', 'bacteria_replicate_1', 'bacteria_replicate_2', 'bacteriaa', 'bacteriab', 'bacterial', 'bacterial_abundance', 'bacterial_abundance_to_total_phytoplankton', 'bacterial_production', 'bank', 'bar', 'barcode', 'barcode_name', 'barcode_sequence', 'bare', 'barite', 'barn', 'barn_trtmt', 'barnacle', 'barnacle_trtmt', 'barometricpressurea', 'barometricpressureb', 'barpress', 'bass', 'bass_counts_1', 'bass_counts_1_5', 'bass_counts_2', 'bass_counts_2_5', 'bass_counts_3', 'bass_counts_3_5', 'bass_counts_4', 'bass_counts_4_5', 'bass_counts_5', 'bass_counts_5_5', 'bass_counts_6', 'bass_counts_6_5', 'bass_counts_7', 'bass_size', 'bass_species', 'bass_treatment', 'batch', 'batch_id', 'bathy', 'bathymetry', 'bats', 'bats_bottle_id', 'bats_chla', 'bats_depth', 'bats_o2', 'bats_poc', 'bay', 'bbp', 'bbp700', 'bbp700_corr', 'bco', 'bco-dmo', 'bd1', 'bd2', 'bd3', 'bd_avg', 'be7', 'be7_activity', 'be7_pcnt_activity_eps_si_minus', 'be7_pcnt_activity_eps_si_plus', 'be7_recovery', 'be_sd', 'beaker', 'beam', 'beam_att', 'beam_atten', 'beam_c', 'beam_cp', 'beam_trans', 'bearing', 'before', 'begin', 'behav', 'behav_end', 'behav_start', 'behavior', 'benthic', 'benthic_type', 'berec', 'best', 'beta', 'beta_carotene', 'bilinearis', 'bin', 'bin_0_0_to_0_5', 'bin_depth', 'bin_gt_0_5_to_1_0', 'bin_gt_1_0_to_1_5', 'bin_gt_1_5_to_2_0', 'bin_gt_2_0_to_2_5', 'bin_gt_2_5_to_3_0', 'bin_gt_3_0_to_3_5', 'bin_gt_3_5_to_4_0', 'bin_gt_4_0_to_4_5', 'bin_gt_4_5', 'bin_id', 'binding', 'binding_energy', 'binid', 'bio', 'bio_cast_no', 'bioerosion', 'bioerosion_rate', 'bioerosion_volume', 'biogeochemical', 'biogeochemical_cruise_id', 'biogeographic', 'biogeographic_zone', 'biological', 'biology', 'biom', 'biomass', 'biomass_integ', 'biomass_total', 'biomaterial', 'biomaterial_provider', 'biome', 'biopolymer', 'biopolymer_fraction', 'bioproject', 'bioproject_accession', 'bioproject_link', 'biosample', 'biosample_accession', 'biosample_accession_link', 'biosample_link', 'biovolume', 'biovolume_cell', 'biovolume_integrated', 'birthdate', 'bite', 'bite_number', 'bites', 'bix', 'blank', 'bleach', 'bleach_score', 'bleach_status_2014', 'bleached', 'bleached_avg', 'bleached_avg_sd', 'bleachedcoral', 'bleaching', 'bleaching_status', 'block', 'bloom', 'blow', 'blow_species', 'blows', 'boat', 'boat_type', 'body', 'body_length', 'border', 'bot', 'bot_nis', 'bottle', 'bottle_geotrc', 'bottle_id', 'bottle_iso', 'bottle_number', 'bottle_nut', 'bottle_pooled', 'bottle_rosette', 'bottle_treatment', 'bottles', 'bottom', 'bottom_depth', 'bouyant', 'bouyant_weight', 'br_flag', 'branching', 'branching_porites', 'briareum', 'brief', 'brief_desc', 'brosme', 'brosme_brosme', 'brown', 'bryozoan', 'bsi', 'bsi_lpt_pump_conc', 'bsi_lpt_pump_conc_qv_odv', 'bsi_lpt_pump_conc_stdev', 'bsi_spt_pump_conc', 'bsi_spt_pump_conc_qv_odv', 'bsi_spt_pump_conc_stdev', 'btemp', 'btl', 'btl_date', 'btl_iso_datetime_utc', 'btl_lat', 'btl_lon', 'btlnbr', 'btmdepth', 'bubble', 'bucket', 'bucket_num', 'bulk', 'bulk_15n', 'bulk_15n_significant_difference', 'bulk_d13c', 'bulk_d13c_stdev', 'bulk_d15n', 'bulk_d15n_stdev', 'bulk_stable_isotope_d13c', 'bulk_stable_isotope_d15n', 'buoy', 'buoy_id', 'burst', 'burst_average', 'busco', 'busco_pcnt', 'but', 'but_fuco', 'butfuc_19', 'butt', 'bvfq', 'byrozoan', 'c0s_m', 'c11', 'c11_210pb', 'c11_210po', 'c11_233pa', 'c11_234th', 'c11_7be', 'c11_protein', 'c12', 'c12_0', 'c13', 'c13_0', 'c14', 'c14_0', 'c14_age', 'c14_age_uncertainty', 'c14_stdev', 'c15', 'c15_0', 'c16', 'c16_0', 'c17', 'c17_0', 'c17_1', 'c18', 'c18_0', 'c18_1', 'c18_2', 'c18_4', 'c19', 'c19_1', 'c1_15n2', 'c1_n2o', 'c1_o2', 'c1_sed_15n', 'c1c2', 'c1s_m', 'c20', 'c20_0', 'c20_1', 'c20_2', 'c20_3', 'c20_4w6', 'c20_5w3', 'c21', 'c22', 'c22_0', 'c22_1', 'c22_5', 'c22_5w3', 'c22_5w6', 'c22_6w3', 'c22_6w6', 'c23', 'c24', 'c24_0', 'c25', 'c25_0', 'c26', 'c26_0', 'c28', 'c28_0', 'c2_15n2', 'c2_c1s_m', 'c2_n2o', 'c2_o2', 'c2_sed_15n', 'c30', 'c30_0', 'c3_15n2', 'c3_n2o', 'c3_o2', 'c3_sed_15n', 'c91', 'c9_210pb', 'c9_210po', 'c9_233pa', 'c9_234th', 'c9_7be', 'c9_fe', 'c9_protein', 'c9_tcho', 'c_amount_ug', 'c_conc_2ml', 'c_conc_3ml', 'c_mass_sample', 'c_n', 'c_n_a', 'c_n_a_stdev', 'c_n_mol_mol', 'c_n_particulate', 'c_pcent', 'c_to_n', 'c_to_n_peak', 'ca1', 'ca1_15n2', 'ca1_n2o', 'ca1_o2', 'ca2', 'ca2_15n2', 'ca2_n2o', 'ca2_o2', 'ca3', 'ca3_15n2', 'ca3_n2o', 'ca3_o2', 'ca_flag', 'ca_tp_conc_bottle', 'ca_tp_conc_bottle_stdev', 'cabbage', 'caco3_lpt_conc_pump', 'caco3_lpt_conc_pump_qv_odv', 'caco3_lpt_conc_pump_stdev', 'caco3_spt_conc_pump', 'caco3_spt_conc_pump_qv_odv', 'caco3_spt_conc_pump_stdev', 'cage', 'cage_alive', 'cage_dead', 'cal', 'calc', 'calcareous', 'calcareousgreenmacroalgae_halimeda', 'calcareousredmacroalgae', 'calcification', 'calcification_rate', 'calcified', 'calcite', 'calculation', 'calculation_type', 'calendar', 'calendar_age', 'cam', 'cam_end', 'cam_start', 'campaign', 'campaign_name', 'campaign_sequence_number', 'campus', 'cams', 'cams_uci_num', 'canister', 'cantha', 'capture', 'capture_effeciency', 'capture_evade', 'car', 'carbon', 'carbon_dioxide', 'carbon_nitrogen', 'carbonate', 'cariaco', 'carotene', 'carotene_a', 'carotene_b', 'case', 'cast', 'cast_depth', 'cast_duration', 'cast_geotrc', 'cast_id', 'cast_no', 'cast_number', 'castno', 'catch', 'catch_per_effort', 'category', 'caught', 'cavernosa', 'cca', 'cca_mass_final_grams', 'cca_mass_initial_grams', 'cca_surface_area_cm2', 'cca_turf', 'ccmp1516', 'ccmp2668', 'ccmp3266', 'ccmp3268', 'cd_hac_l_avg_aerosol', 'cd_hac_l_qf_aerosol', 'cd_hac_l_var_aerosol', 'cd_lpt_conc_pump', 'cd_lpt_conc_pump_qv_odv', 'cd_lpt_conc_pump_stdev', 'cd_spt_conc_pump', 'cd_spt_conc_pump_qv_odv', 'cd_spt_conc_pump_stdev', 'cd_tp_conc_avg_aerosol', 'cd_tp_conc_bottle', 'cd_tp_conc_bottle_stdev', 'cd_tp_conc_qf_aerosol', 'cd_tp_conc_var_aerosol', 'cdom', 'cdom_corrected', 'cell', 'cell_c', 'cell_co', 'cell_concentration', 'cell_count', 'cell_counts', 'cell_cu', 'cell_density', 'cell_fe', 'cell_mn', 'cell_ni', 'cell_p', 'cell_s', 'cell_si', 'cell_si_to_p', 'cell_si_to_s', 'cell_size', 'cell_type', 'cell_vol', 'cell_zn', 'cells', 'cells_feeding', 'cells_per_ml', 'cellvol1', 'center', 'central', 'centropristis', 'centropristis_striata', 'ch3', 'ch3br', 'ch3cl', 'ch3i', 'ch4', 'ch4_comment', 'ch4_um', 'change', 'chanosdic', 'charge', 'chbr3', 'checksum', 'checksum_data', 'chemical', 'chemistry', 'chewed', 'chewed_leaves', 'chl', 'chl_0d8um', 'chl_20um', 'chl_2um', 'chl_a', 'chl_a_allomer', 'chl_a_avg', 'chl_a_corr', 'chl_a_dv', 'chl_a_epimer', 'chl_a_fluor', 'chl_a_mv', 'chl_a_mv_peak', 'chl_a_tot', 'chl_a_ugm', 'chl_b', 'chl_b_corr', 'chl_b_dv', 'chl_b_mv', 'chl_c1', 'chl_c1c2', 'chl_c2', 'chl_c3', 'chl_cal', 'chl_corr', 'chl_image_filename', 'chl_raw', 'chl_tot', 'chl_total', 'chla', 'chla_8um', 'chla_allomer', 'chla_bottom_fluor', 'chla_gf', 'chla_iws', 'chla_nr_bot_extr', 'chla_phaeo', 'chla_prime', 'chla_start_5_to_20um', 'chla_start_gt20um', 'chla_start_lt5um', 'chla_start_total', 'chla_surface_fluor', 'chlextracta', 'chlextractb', 'chlide', 'chlide_a', 'chlor', 'chlorinity', 'chlorophyll', 'chlorophyll-a', 'chlorophyll_750uatm_pco2', 'chlorophyll_750uatm_pco2_num_obs', 'chlorophyll_750uatm_pco2_stdev', 'chlorophyll_a', 'chlorophyll_a_stdev', 'chlorophyll_num_obs', 'chlorophyll_stdev', 'chlorostichopus', 'chlraw', 'choice', 'choice_nochoice', 'chorophyll', 'chorophyll_1100uatm_pco2', 'chorophyll_1100uatm_pco2_num_obs', 'chorophyll_1100uatm_pco2_stdev', 'chromophoric', 'chrysops', 'chuss', 'ci_50_aerodynamic_cut_diam', 'ciliated', 'ciliated_protists', 'cirripedia', 'cl_flag', 'cl_stdev', 'clade', 'clam', 'clam_tridacna', 'class', 'classcode', 'clathratum', 'clathromorphum', 'clathromorphum_cover', 'clathrus', 'cldcvr', 'climate', 'clip', 'clip_duration', 'clip_end', 'clip_id', 'clip_start', 'clonal', 'cloud', 'cloud_area_fraction', 'cloud_cover', 'cloudiness', 'clouds', 'clupea', 'clupea_harengus', 'clutch', 'clutch_id', 'cm1', 'cm2', 'cm3', 'cm_in_core', 'cmg', 'cnidaria', 'cnidaria_species', 'co2', 'co2_ppm', 'co2_t0', 'co2_t24', 'co2_treatment', 'co2weights', 'co3', 'co3_t0', 'co3_t24', 'co_lpt_conc_pump', 'co_lpt_conc_pump_qv_odv', 'co_lpt_conc_pump_stdev', 'co_spt_conc_pump', 'co_spt_conc_pump_qv_odv', 'co_spt_conc_pump_stdev', 'coc', 'code', 'code_1', 'code_10', 'code_11', 'code_12', 'code_13', 'code_14', 'code_15', 'code_16', 'code_17', 'code_2', 'code_3', 'code_4', 'code_5', 'code_6', 'code_7', 'code_8', 'code_9', 'codium', 'codium_spp_cover_score', 'coefficient', 'cog', 'cohort', 'coi', 'col', 'col_210pb', 'col_233pa', 'col_234th', 'col_237np', 'col_59fe', 'col_7be', 'cold', 'colddays_num', 'collected', 'collected_by', 'collection', 'collection_depth', 'collection_depth_ft', 'collection_location', 'collection_method', 'collection_site', 'collection_type', 'collections', 'collector', 'colonies', 'colony', 'colony_density_deterministic11', 'colony_density_stocastic1', 'colony_density_stocastic10', 'colony_density_stocastic2', 'colony_density_stocastic3', 'colony_density_stocastic4', 'colony_density_stocastic5', 'colony_density_stocastic6', 'colony_density_stocastic7', 'colony_density_stocastic8', 'colony_density_stocastic9', 'colony_name', 'colony_number', 'colonyeffect_0', 'colonyeffect_1', 'colonyeffect_2', 'colonyeffect_3', 'colonyeffect_4', 'color', 'colored', 'colpophyllia', 'column', 'columnar', 'columnar_invasivemontipora', 'columnar_invasivemontipora2', 'columnar_isopora', 'columnar_unid', 'columnar_unid2', 'combination', 'comment', 'comments', 'comments_expt', 'commerce', 'common', 'common_name', 'community', 'comp', 'completed', 'complex', 'complexbranching_acropora2', 'complexbranching_acroporaspp', 'complexbranching_millepora', 'complexbranching_millepora2', 'complexbranching_pocillopora_damicornis_varicosa', 'complexbranching_pocillopora_damicornis_varicosa2', 'complexbranching_stylaster_distichopora', 'complexbranching_unid', 'complexbranching_unid2', 'component', 'composition', 'compound', 'compound_for_ratio', 'comprehensive', 'con', 'con1', 'con2', 'con3', 'conc', 'conc2', 'concentration', 'concentration_ml', 'concentration_of_chlorophyll_in_sea_water', 'concentration_ul', 'cond', 'cond2', 'cond_2', 'cond_diff', 'cond_mm', 'cond_ms', 'cond_ms_avg', 'cond_ms_cm', 'cond_ms_max', 'cond_ms_min', 'cond_ms_stdev', 'cond_ms_sterr', 'cond_s_m', 'cond_ss', 'cond_ss5', 'condition', 'condition_factor', 'conditions', 'conductivity', 'connectivity', 'connectivity_p', 'cons', 'consecutive', 'consecutive_days', 'consensus', 'consensus_annotation', 'conspecific', 'constant', 'consume', 'consumed', 'consumption', 'cont', 'contact', 'content', 'contig', 'contigs', 'contigs_num', 'contiguity', 'continuous', 'continuous_attack', 'control', 'control1', 'control2', 'control_amphipod_size_mm', 'control_final_weight_mg', 'control_initial_weight_mg', 'convert', 'coo', 'copper', 'copper_ii_sulfate', 'coral', 'coral_1989', 'coral_1995', 'coral_1996', 'coral_byrozoan', 'coral_eaten', 'coral_id', 'coral_jul_17', 'coral_nov_17', 'coral_number', 'coral_taxon', 'corallimorph', 'corallinales', 'coralline', 'core', 'core_cariaco_id', 'core_id', 'core_length', 'core_no', 'core_section_cm', 'core_type', 'corename', 'coreno', 'cores', 'corr', 'correct_chla_iv', 'corrected', 'corrected_cca_mass_initial_grams', 'corrected_depth', 'corrected_initial_mass_grams_t10', 'corrected_initial_mass_grams_t15', 'corrected_initial_mass_grams_t20', 'corrected_initial_mass_grams_t5', 'correction', 'correction_factor', 'correction_factor_t10', 'correction_factor_t15', 'correction_factor_t20', 'correction_factor_t5', 'count', 'count_1', 'count_2', 'count_3', 'count_4', 'count_5', 'count_6', 'count_actual', 'count_avg', 'count_avg_se', 'count_flag', 'count_log10', 'count_log10_avg', 'count_log10_avg_se', 'count_subsample', 'counted', 'counter', 'counter_id', 'counts', 'course', 'course_trim', 'cov', 'cover', 'covering', 'cper', 'cperm', 'crab', 'crabs', 'crabs_percentt', 'crew', 'crit', 'croco', 'crowded', 'cruise', 'cruise_cast_net', 'cruise_dive_day', 'cruise_id', 'cruise_id1', 'cruise_id2', 'cruise_id_1', 'cruise_id_2', 'cruise_informal', 'cruise_leg', 'cruise_name', 'cruise_no', 'cruise_number', 'cruise_official', 'cruise_type', 'cruise_year', 'cruiseid', 'crustose', 'crustose_coralline_algae_cover_score', 'crystalline', 'cs134', 'cs134_conc_dry', 'cs134_cs137', 'cs137', 'cs137_conc_dry', 'csi', 'csi_aa_sigmav', 'csi_aa_sigmav_significant_difference', 'csi_aa_tp', 'csi_aa_tp_significant_difference', 'cstar', 'cstarat0', 'cstartr0', 'ctb', 'ctbcover', 'ctbcover_mean', 'ctbcover_se', 'ctd', 'ctd_cast', 'ctdprs', 'ctdsal', 'ctdtemp', 'ctdtmp', 'cto', 'cton', 'ctrl', 'cu_flag', 'cu_hac_l_avg_aerosol', 'cu_hac_l_qf_aerosol', 'cu_hac_l_var_aerosol', 'cu_lpt_conc_pump', 'cu_lpt_conc_pump_qv_odv', 'cu_lpt_conc_pump_stdev', 'cu_spt_conc_pump', 'cu_spt_conc_pump_qv_odv', 'cu_spt_conc_pump_stdev', 'cu_tp_conc_avg_aerosol', 'cu_tp_conc_qf_aerosol', 'cu_tp_conc_var_aerosol', 'cucumber', 'cues', 'culture', 'culture1', 'culture2', 'culture3', 'culture4', 'culture_id', 'culture_medium', 'culture_pot_id', 'current', 'current_direction', 'current_direction_from', 'current_speed', 'currents', 'cut', 'cvf', 'cvf_t0', 'cvf_t10ms', 'cvf_t12ms', 'cvf_t14ms', 'cvf_t16ms', 'cvf_t18ms', 'cvf_t20ms', 'cvf_t2ms', 'cvf_t4ms', 'cvf_t6ms', 'cvf_t8ms', 'cvi11', 'cvi11_a', 'cvi11_b', 'cvi13', 'cvi13_a', 'cvi13_b', 'cvi1i24b', 'cvi1i24b_a', 'cvi1i24b_b', 'cvi2i23', 'cvi2i23_a', 'cvi2i23_b', 'cvi2j24', 'cvi2j24_a', 'cvi2j24_b', 'cvi2k14', 'cvi2k14_a', 'cvi2k14_b', 'cvi4313', 'cvi4313e_a', 'cvi4313e_b', 'cvi9', 'cvi9_a', 'cvi9_b', 'cvpdb', 'cyanobacteria', 'cyanobacteria_covering', 'cycle', 'cylindrica', 'cymathaere', 'cymathaere_triplicata_density', 'cynoglossus', 'cynoscion', 'cynoscion_regalis', 'd13', 'd13c', 'd13c_doc', 'd13c_lpt_pump_conc_dbcorr', 'd13c_lpt_pump_conc_dbcorr_qv_odv', 'd13c_lpt_pump_conc_qv_odv', 'd13c_lpt_pump_conc_raw', 'd13c_poc', 'd13c_stdev', 'd13cvpdb', 'd13u', 'd14', 'd14c', 'd14c_stdev', 'd15', 'd15n', 'd15n_biomass_ppt', 'd15n_lpt_pump_conc_dbcorr', 'd15n_lpt_pump_conc_dbcorr_qv_odv', 'd15n_lpt_pump_conc_qv_odv', 'd15n_lpt_pump_conc_raw', 'd15n_n2o', 'd15n_n2o_sd', 'd15n_nh4', 'd15n_nitrate', 'd15n_nitrite', 'd15n_no2', 'd15n_no2_sd', 'd15n_no3', 'd15n_no3_ppt', 'd15n_no3_sd', 'd15n_pn', 'd15n_pom', 'd15n_stdev', 'd15na', 'd15na_sd', 'd15nb', 'd15nb_sd', 'd18', 'd18o', 'd18o_n2o', 'd18o_n2o_sd', 'd18o_nitrate', 'd18o_nitrite', 'd18o_no2', 'd18o_no2_sd', 'd18o_no3', 'd18o_no3_sd', 'd18o_stdev', 'd1a', 'd1a_s_trenchii', 'd1l', 'd1u', 'd22', 'd22l', 'd22u', 'd27', 'd27u', 'd3l', 'd3u', 'd4u', 'd_geg_abund', 'd_geg_abund_stdev', 'd_geg_gonozooid_13c', 'd_geg_gonozooid_15n', 'd_geg_nurse_13c', 'd_geg_nurse_15n', 'd_geg_phorozooid_13c', 'd_geg_phorozooid_15n', 'd_min', 'd_n_flag', 'd_strigosa', 'damage', 'damicornis', 'damsel', 'damsel_number', 'damsel_size', 'dapi', 'dapi_count', 'dar', 'dar_stdev', 'dark', 'dark_carbon_fixation_rate', 'data', 'data_quality', 'data_type', 'dataset', 'datatype', 'date', 'date_10', 'date_coral_eaten', 'date_coral_offered', 'date_dna_extraction', 'date_end', 'date_end_utc', 'date_gmt', 'date_hst', 'date_local', 'date_processed', 'date_sample', 'date_sampled', 'date_sorted', 'date_start_gmt', 'date_start_utc', 'date_t15', 'date_t20', 'date_t5', 'date_tissue_airbrush', 'date_utc', 'date_utc_yyyymmdd_start', 'datenum', 'datenum_gmt', 'datetime', 'day', 'day_begin', 'day_cruise_begin', 'day_cruise_end', 'day_end', 'day_gmt', 'day_local', 'day_night', 'day_of_acclimatisation', 'day_start', 'day_utc', 'day_utc_begin', 'day_utc_end', 'days', 'days_diff', 'daytime', 'dbcorr', 'dead', 'dead_stoneycoral', 'deadcoral', 'deadtrees_presence', 'decactis', 'decimal', 'decimal_year', 'defense', 'del15', 'del15n_no3no2', 'del15n_no3no2_sd', 'del15n_pnsink', 'del15n_pnsink_sd', 'delta', 'delta13', 'delta13c_ppt_v_vpdb', 'delta15', 'delta15n', 'delta15n_ppt_v_air', 'delta15n_stdev', 'delta_13c', 'delta_15n', 'delta_n2o', 'delta_n_15', 'delta_n_15_error', 'delta_o_18', 'dendrogyra', 'denom', 'density', 'density_2', 'density_diff', 'density_integrated', 'dentatus', 'dep', 'departed', 'department', 'departure', 'departure_time', 'deploy', 'deploy_lat', 'deploy_length', 'deploy_lon', 'deployed', 'deployment', 'deployment_column', 'deployment_id', 'deployment_row', 'deployno', 'depsm', 'depsm2', 'depth', 'depth2', 'depth_begin', 'depth_bin_2', 'depth_bottom', 'depth_cast', 'depth_close', 'depth_cm', 'depth_cs', 'depth_drifter', 'depth_end', 'depth_end_nom', 'depth_feet', 'depth_fm', 'depth_for_ammonium', 'depth_for_nitrate_and_nitrate', 'depth_for_nitrate_isotopes', 'depth_for_nitrite_isotopes', 'depth_for_o2', 'depth_ft', 'depth_ft_avg', 'depth_ft_max', 'depth_ft_min', 'depth_ft_stdev', 'depth_ft_sterr', 'depth_geotrc_ctd', 'depth_geotrc_ctd_round', 'depth_in_core', 'depth_incubate', 'depth_interval', 'depth_lower', 'depth_m', 'depth_max', 'depth_mean', 'depth_mid', 'depth_min', 'depth_n', 'depth_nom', 'depth_nominal', 'depth_open', 'depth_range', 'depth_real', 'depth_relative', 'depth_released', 'depth_sample', 'depth_start_nom', 'depth_strata', 'depth_target', 'depth_tow_max', 'depth_upper', 'depth_w', 'depth_w_12', 'depth_w_3d5', 'depth_water', 'desc', 'descrip', 'description', 'description_of_the_types_of_sequences', 'descriptive', 'descriptive_location', 'design', 'design_description', 'desmarestia', 'desmarestia_spp_cover_score', 'determinations', 'deterministic11', 'dev', 'deviation', 'dhe', 'dhe_stdev', 'dhm', 'diad', 'diadino', 'diadinox', 'diam', 'diameter', 'diat', 'diato', 'diatom', 'diatom_cell_count', 'diatoms', 'diatox', 'dic', 'dic_mm', 'dic_stdev', 'dic_t0', 'dic_t24', 'dica', 'dicb', 'dicc', 'dichocoenia', 'dictyosphaera', 'diel', 'diff', 'diff_delta_o_18', 'diff_from_8c', 'difference', 'digestive', 'dilution', 'dilution_factor', 'din', 'dinoflagellate', 'dinoflagellate_species', 'dinoflagellates', 'dioxide', 'diploid', 'diploidgenotype1_halom264', 'diploidgenotype1_haloms175', 'diploidgenotype1_haloms27', 'diploidgenotype1_haloms32', 'diploidgenotype1_haloms86', 'diploidgenotype1_haloms91', 'diploidgenotype1_halomx66', 'diploidgenotype2_halom264', 'diploidgenotype2_haloms175', 'diploidgenotype2_haloms27', 'diploidgenotype2_haloms32', 'diploidgenotype2_haloms86', 'diploidgenotype2_haloms91', 'diploidgenotype2_halomx66', 'diploria', 'diploria_labrynthiformes', 'direction', 'dis', 'disease', 'disease_leaves', 'diseased', 'displ', 'displ_vol', 'displ_vol_integ', 'displacement', 'diss', 'diss_rate', 'dissfe', 'dissipation', 'dissipation_rate', 'dissolved', 'dissolved_fe', 'dissolved_inorganic_carbon', 'dissolved_inorganic_carbon_1100uatm_pco2_mean', 'dissolved_inorganic_carbon_1100uatm_pco2_num_obs', 'dissolved_inorganic_carbon_1100uatm_pco2_stdev', 'dissolved_inorganic_carbon_750uatm_pco2', 'dissolved_inorganic_carbon_750uatm_pco2_mean', 'dissolved_inorganic_carbon_750uatm_pco2_num_obs', 'dissolved_inorganic_carbon_750uatm_pco2_stdev', 'dissolved_inorganic_carbon_mean', 'dissolved_inorganic_carbon_num_obs', 'dissolved_inorganic_carbon_stdev', 'dissolved_mn', 'dissolved_nutrients', 'dissolved_o2', 'dissolved_oxygen', 'dist', 'dist_cm', 'dist_towed', 'distance', 'distance_m', 'distance_nm', 'distichopora', 'distribution', 'dive', 'dive_number', 'diversity', 'division', 'dkr', 'dkr_stdev', 'dm_wm_ratio', 'dmo', 'dmso', 'dmso_a665', 'dmso_ext', 'dmsp', 'dmspd', 'dmspd_consumption_rate', 'dmspd_in_situ', 'dmspd_in_situ_stdev', 'dmspd_lab', 'dmspd_lab_stdev', 'dmspt', 'dmspt_stdev', 'dn2', 'dna', 'dna_conc', 'dne', 'dne_stdev', 'dnf', 'dnra', 'do_0_3m', 'do_0_5m', 'do_1_1m', 'do_mean', 'do_pcnt', 'do_sat', 'do_treatment', 'doc', 'doc_addition', 'doc_stdev', 'doc_tdn', 'doc_um', 'docconsumed', 'docex', 'docin', 'doconc', 'doconc_calc', 'docre', 'doghouse', 'dominant', 'dominant_species', 'don', 'don_d15n', 'don_d15n_stdev', 'don_stdev', 'dop', 'dosat', 'dosat_calc', 'download', 'downwelling', 'downwelling_photosynthetic_photon_radiance_in_sea_water', 'doy', 'doy_gmt', 'dph', 'dresp', 'drespa', 'drespc', 'drifterid', 'dry', 'dry_mass', 'dry_weight', 'dry_weight_end', 'dry_weight_start', 'dry_wgt', 'dry_wgt_integ', 'dry_wgt_total', 'dsi', 'duration', 'duration_days_10', 'duration_days_t15', 'duration_days_t20', 'duration_days_t5', 'during', 'dv_chl_a', 'dxe', 'dxe_stdev', 'dyn', 'dz_dtm', 'e1_210pb', 'e1_210po', 'e1_233pa', 'e1_234th', 'e1_7be', 'e1_fe', 'e1_protein', 'e1_tcho', 'e3_210pb', 'e3_210po', 'e3_233pa', 'e3_234th', 'e3_7be', 'e3_fe', 'e3_protein', 'e3_tcho', 'e_value', 'eam', 'earth', 'east', 'east_hs', 'east_nh4', 'east_salinity', 'east_se', 'east_sediment_chla', 'east_sediment_chla_se', 'east_temperature', 'east_watercolumn_nh4', 'east_watercolumn_nh4_se', 'east_watercolumn_no3', 'east_watercolumn_no3_se', 'east_watercolumn_po4', 'east_watercolumn_po4_se', 'easting', 'eaten', 'echin', 'eco', 'ecology', 'ed_lw', 'ed_sw', 'edge', 'edge_dist_min', 'edge_distance', 'edta', 'eel', 'eel_shark_count', 'eff', 'eff_allelic_diversity', 'effeciency', 'effect', 'effort', 'effort_type', 'eggs', 'elapsed', 'elapsed_time', 'electrical', 'element', 'elemental', 'elemental_composition_c', 'elemental_composition_c_n_atomic', 'elemental_composition_n', 'elevation', 'elevator', 'embryo', 'embryo_survival', 'encounter', 'encounter_effeciency', 'encrusted', 'encrusted_mean', 'encrusted_se', 'encrusting', 'encrusting_astreopora', 'encrusting_fleshyredalgae', 'encrusting_isopora', 'encrusting_leptastrea', 'encrusting_millepora', 'encrusting_millepora2', 'encrusting_noninvasive_montiporaspp', 'encrusting_pocillopora', 'encrusting_porites_solida', 'encrusting_sponge', 'encrusting_tunicate', 'encrusting_unid', 'encrusting_unid2', 'end', 'end_bottom_time', 'end_date_local', 'end_depth', 'end_gmt', 'end_latitude', 'end_longitude', 'end_period', 'end_size', 'end_time', 'end_time_local', 'energy', 'entry', 'env', 'env_biome', 'enz', 'enz_activity_blank', 'enz_activity_t0', 'enz_activity_t1', 'enz_activity_t2', 'enz_activity_t3', 'enz_activity_t4', 'enz_activity_t5', 'enz_activity_t6', 'enz_activity_t7', 'enz_activity_t8', 'eps_si_diff', 'eps_si_minus', 'eps_si_plus', 'equivalent', 'erddap', 'erect', 'erect_calcified_algae_cover_score', 'err_ag110m_conc_dry', 'err_berec', 'err_cs134', 'err_cs134_conc_dry', 'err_cs134_cs137', 'err_cs137', 'err_cs137_conc_dry', 'err_k40_conc_dry', 'err_kc_be', 'err_kc_pb', 'err_kc_po', 'err_pbrec', 'err_porec', 'error', 'error_propogate_29', 'error_propogate_30', 'erythropodium', 'esd', 'espiw', 'essw', 'estimates', 'estuary', 'etr', 'eualaria', 'eualaria_fistulosa_density', 'eukaryotes', 'eukaryotic', 'eunicea', 'euryarchaeota', 'eusmilia', 'eusmilia_fastigiata', 'evade', 'evaded', 'evalue', 'evalue_mean', 'evalue_paste', 'event', 'event_geotrc', 'event_id', 'event_start', 'event_time', 'event_type', 'eventno', 'events', 'excrete', 'exp', 'exp_id', 'exp_trial', 'exper', 'experiment', 'experiment_date', 'experiment_id', 'experiment_name', 'experiment_num', 'experiment_type', 'exposure', 'expt', 'expt_day', 'ext', 'external', 'extr', 'extract', 'extract_volume_ml', 'extraction', 'eydouxi', 'eydouxi2', 'f4_8', 'f5_1', 'f_a', 'f_a_blank', 'f_o', 'f_o_blank', 'factor', 'fals', 'family', 'familyid', 'fasciatus', 'fasta', 'fastigiata', 'fatty', 'fatty_acid', 'faveolata', 'favia', 'favia_fragum', 'fco2', 'fco2_corrected', 'fe59', 'fe59_act_pcnt', 'fe_d_conc_bottle', 'fe_d_conc_fish', 'fe_flag', 'fe_hac_l_avg_aerosol', 'fe_hac_l_qf_aerosol', 'fe_hac_l_var_aerosol', 'fe_ii_concentration', 'fe_lpt_conc_pump', 'fe_lpt_conc_pump_qv_odv', 'fe_lpt_conc_pump_stdev', 'fe_prime', 'fe_spt_conc_pump', 'fe_spt_conc_pump_qv_odv', 'fe_spt_conc_pump_stdev', 'fe_tp_conc_avg_aerosol', 'fe_tp_conc_bottle', 'fe_tp_conc_bottle_stdev', 'fe_tp_conc_qf_aerosol', 'fe_tp_conc_var_aerosol', 'fe_um', 'fed', 'fed_phyto_growth_5_to_20um', 'fed_phyto_growth_gt20um', 'fed_phyto_growth_lt5um', 'fed_phyto_growth_std_err_5_to_20um', 'fed_phyto_growth_std_err_gt20um', 'fed_phyto_growth_std_err_lt5um', 'fed_phyto_growth_std_err_total', 'fed_phyto_growth_total', 'feed', 'feeder', 'feeding', 'female', 'feob_strain', 'feoh3_lpt_conc_pump', 'feoh3_lpt_conc_pump_qv_odv', 'feoh3_lpt_conc_pump_stdev', 'feoh3_spt_conc_pump', 'feoh3_spt_conc_pump_qv_odv', 'feoh3_spt_conc_pump_stdev', 'ferrous', 'ferrous_iron', 'ferruginea', 'fert', 'fertilization', 'field', 'field_code', 'filamentous', 'filamentous_red_algae_cover_score', 'filamentousgreenmacroalgae', 'file', 'file_download_link', 'file_link', 'file_name', 'filename', 'filename2', 'filename3', 'filename4', 'filename5', 'filename6', 'filename7', 'filename8', 'filesize', 'filetype', 'film', 'film_algae', 'filt', 'filt2', 'filtered', 'final', 'final_avg_size', 'final_length', 'final_movement_angle', 'final_movement_direction', 'final_sample_age', 'final_sample_date', 'first', 'first_size', 'first_species', 'fish', 'fish_1_0', 'fish_abund', 'fish_age_class', 'fish_len', 'fish_n', 'fish_num', 'fish_size', 'fish_tl', 'fisher', 'fishid', 'fishing', 'fistulosa', 'fit', 'fitti', 'fix', 'fix_quality', 'fixation', 'flag', 'flagellated', 'flagellated_protists', 'flags', 'flaq', 'fleco_afl', 'fleetsize', 'fleshy', 'fleshybrownmacroalgae', 'fleshybrownmacroalgae_stypopodium', 'fleshybrownmacroalgae_turbinaria', 'fleshygreenmacroalgae', 'fleshygreenmacroalgae_dictyosphaera_cavernosa', 'fleshygreenmacroalgae_microdictyon', 'fleshyredmacroalgae', 'flo1', 'flo1szcode', 'flo2', 'flo2szcode', 'flo3', 'flo3szcode', 'float', 'float_bbp', 'float_chla', 'float_id', 'float_o2', 'float_pressure', 'float_profile', 'florida', 'flow', 'flow_rate', 'flow_tank', 'flowrate', 'flr', 'flume', 'fluor', 'fluor_blank', 'fluor_chla', 'fluor_ctd', 'fluor_max', 'fluor_min', 'fluor_ss', 'fluor_t0', 'fluor_t1', 'fluor_t2', 'fluor_t3', 'fluor_t4', 'fluor_t5', 'fluor_t6', 'fluor_t7', 'fluor_t8', 'fluorescence', 'fluorescencepercelldensity', 'flux', 'flvolt', 'flvolt_mv', 'fm_stdev', 'fmolcell1', 'foliose', 'foliose_invasivemontipora', 'foliose_invasivemontipora2', 'food', 'food_type', 'force', 'forecast', 'fraction', 'fragment', 'fragment_num', 'fragum', 'frame', 'frame_approach_start', 'frame_t0_strike', 'franksi', 'frdoc', 'free', 'frequency', 'fresh', 'fresh_weight', 'fresh_wt', 'fronds', 'fronds_1_m', 'frpoc', 'frtoc', 'fsi', 'fuc', 'fuco', 'fuco_corr', 'fucox', 'fucox_but', 'fucox_hex', 'functional', 'functional_absorption', 'fungia', 'fv_to_fm', 'fv_to_fm_sd', 'fvfm', 'fwc', 'fwc_ds', 'g1_pc', 'g1g2_cv', 'g2_pc', 'g2g1ratio', 'g3_3', 'g3_4', 'g_lost', 'gadus', 'gadus_morhua', 'gamma', 'gamma_24774a11', 'gastropod', 'gastropods', 'gear', 'gear_1', 'gear_2', 'gear_3', 'gear_area_m2', 'gear_mesh', 'gear_type', 'gearcode', 'geg', 'gen', 'genbank_besthit', 'gender', 'gene', 'generator', 'generator_seawater_flowrate', 'genet', 'genet_clonalpopulation_id', 'genetic', 'genetic_relatedness', 'genetics', 'genetics_id', 'genotype', 'genotype1', 'genotype2', 'genspec', 'genus', 'genus_max', 'genus_species', 'geo', 'geo_loc_name', 'geoid', 'geoid_units', 'geotrc', 'geotrc_eventno', 'geotrc_instr', 'geotrc_sampno', 'gff', 'gff_diff', 'gff_fw', 'gff_iw', 'gfi', 'gfi_per_cell', 'global', 'glu', 'glu_d15n', 'glutamic', 'glutamic_acid', 'glx', 'glx_st_dev', 'glx_stdev', 'gly', 'gly_d15n', 'gly_st_dev', 'gly_stdev', 'glycerol_phosphate', 'glycine', 'glyptocephalus', 'glyptocephalus_cynoglossus', 'goby100', 'goby100_a', 'goby100_b', 'goby107', 'goby107_a', 'goby107_b', 'goby112', 'goby112_a', 'goby112_b', 'goby113', 'goby113_a', 'goby113_b', 'goby124', 'goby124_a', 'goby124_b', 'goby141', 'goby141_a', 'goby141_b', 'goby143', 'goby143_a', 'goby143_b', 'goby151', 'goby151_a', 'goby151_b', 'goby152', 'goby152_a', 'goby152_b', 'goby153', 'goby153_a', 'goby153_b', 'goby166', 'goby166_a', 'goby166_b', 'goby169', 'goby169_a', 'goby169_b', 'goby170', 'goby170_a', 'goby170_b', 'goby174', 'goby174_a', 'goby174_b', 'goby177', 'goby177_a', 'goby177_b', 'goby180', 'goby180_a', 'goby180_b', 'goby183', 'goby183_a', 'goby183_b', 'goby186', 'goby186_a', 'goby186_b', 'goby198', 'goby198_a', 'goby198_b', 'goby202', 'goby202_a', 'goby202_b', 'goby205', 'goby205_a', 'goby205_b', 'goby216', 'goby216_a', 'goby216_b', 'goby228', 'goby228_a', 'goby228_b', 'goby231', 'goby231_a', 'goby231_b', 'goby237', 'goby237_a', 'goby237_b', 'goby259', 'goby259_a', 'goby259_b', 'goby26', 'goby260', 'goby260_a', 'goby260_b', 'goby266', 'goby266_a', 'goby266_b', 'goby26_a', 'goby26_b', 'goby270', 'goby270_a', 'goby270_b', 'goby272', 'goby272_a', 'goby272_b', 'goby280', 'goby280_a', 'goby280_b', 'goby285', 'goby285_a', 'goby285_b', 'goby287', 'goby287_a', 'goby287_b', 'goby289', 'goby289_a', 'goby289_b', 'goby291', 'goby291_a', 'goby291_b', 'goby294', 'goby294_a', 'goby294_b', 'goby300', 'goby300_a', 'goby300_b', 'goby307', 'goby307_a', 'goby307_b', 'goby308', 'goby308_a', 'goby308_b', 'goby314', 'goby314_a', 'goby314_b', 'goby32', 'goby32_a', 'goby32_b', 'goby336', 'goby336_a', 'goby336_b', 'goby340', 'goby340_a', 'goby340_b', 'goby342', 'goby342_a', 'goby342_b', 'goby43', 'goby43_a', 'goby43_b', 'goby52', 'goby52_a', 'goby52_b', 'goby53', 'goby53_a', 'goby53_b', 'goby55', 'goby55_a', 'goby55_b', 'goby56', 'goby56_a', 'goby56_b', 'goby59', 'goby59_a', 'goby59_b', 'goby70', 'goby70_a', 'goby70_b', 'goby77', 'goby77_a', 'goby77_b', 'goby83', 'goby83_a', 'goby83_b', 'goby87', 'goby87_a', 'goby87_b', 'goby90', 'goby90_a', 'goby90_b', 'goby92', 'goby92_a', 'goby92_b', 'goby93', 'goby93_a', 'goby93_b', 'goby95', 'goby95_a', 'goby95_b', 'gobycytb', 'gonad', 'gonad_mass', 'gonozooid', 'gorgonia', 'gorgoniaabundance_mean', 'gorgoniaabundance_se', 'gorgoniacover_mean', 'gorgoniacover_se', 'gp1', 'gp1f', 'gp1i', 'gp1to3', 'gp2', 'gp2f', 'gp2i', 'gp3', 'gp3f', 'gp3i', 'gpa', 'gps', 'gps_datatype', 'gps_hdop', 'grain', 'gram', 'grams', 'graz', 'grazed', 'grazed_cover_median', 'grazed_score', 'grazing', 'grazing_events', 'greater', 'green', 'grid', 'grid_line', 'grid_num', 'grid_sta', 'grid_type', 'ground', 'group', 'group_b', 'group_number', 'growth', 'growth_asym', 'growth_biom', 'growth_cycle', 'growth_dyn', 'growth_increment_um', 'growth_rate', 'growth_rate_mean', 'growth_rate_mean_sd', 'growth_rate_se', 'growthrate', 'gsi', 'gsi_female', 'gt20um', 'gt8uml', 'gt8uml_chla_nr_bot_extr', 'gt8uml_phaeo_nr_bot_extr', 'gypsum', 'gyro', 'h14', 'h25', 'h2_um', 'h2o', 'h2o_stdev', 'h2s', 'h2s_comment', 'h2s_um', 'ha_id', 'hab', 'hab_cm', 'hab_m', 'habitat', 'habitat_caught', 'habitat_choice', 'habitat_type', 'hac', 'halimeda', 'halom264', 'haloms175', 'haloms27', 'haloms32', 'haloms86', 'haloms91', 'halomx66', 'harengus', 'harmful', 'hatch', 'hatch_length', 'hatch_sample_age', 'hatch_sample_date', 'haul', 'haul_factor', 'haul_factor_std', 'haulid', 'hco3', 'hco3_t0', 'hco3_t24', 'hdo', 'hdo_mgperl', 'hdo_percentsat', 'hdop', 'he_conc', 'he_conc2', 'he_flag', 'he_sat', 'he_sat_stdev', 'he_stdev', 'head', 'head_c', 'heading', 'health', 'health_status', 'healthy', 'healthy_avg', 'healthy_avg_sd', 'heat', 'heat_flux', 'heat_flux_lat', 'heat_flux_sens', 'height', 'height_cm', 'heliopora', 'heliopora2', 'hemi', 'hempisphere', 'herb', 'herb_trtmt', 'hesat', 'hesat2', 'het1', 'heterotrophic', 'heterotrophic_bacteria', 'heterotrophic_bacteria_stdev', 'heterotrophic_bacterial_production', 'hex', 'hex_fuco', 'hexametaphosphate', 'hexfuc_19', 'hf', 'hf_insoluble', 'hf_soluble', 'hhmm', 'high', 'high_depth_best', 'highheterotrophicbac', 'hin', 'hippoglossoides', 'hippoglossoides_platessoides', 'hippoglossus', 'hippoglossus_hippoglossus', 'his', 'his_st_dev', 'histidine', 'history', 'hit', 'hix', 'hole', 'homarus', 'homarus_americanus', 'horizontal', 'horizontal_comp_of_vorticity', 'hormo', 'hormo_after', 'hormo_before', 'hormo_log', 'hormo_loss', 'hormo_loss_g', 'host', 'hot', 'hotdays_num', 'hour', 'hour_gmt', 'hours', 'hours_fishing', 'hover', 'hp15', 'hp15_addition', 'hplc', 'hrs', 'hrs_at_sea', 'hst', 'ht25', 'hum', 'humidity', 'humidity_port', 'humidity_stbd', 'hunt', 'hunt_time', 'hurricane', 'hurricane_name', 'hurricaneseverityindex', 'hydro', 'hydro_cast_no', 'hydrology', 'hydrolysis', 'hzvel', 'i13', 'i14', 'i15', 'i16', 'i17', 'i19', 'ice', 'ice_conc', 'ice_cover_type', 'ice_distribution', 'ice_min_day', 'ice_min_east_day', 'ice_min_east_month', 'ice_min_east_year', 'ice_min_month', 'ice_min_west_day', 'ice_min_west_month', 'ice_min_west_year', 'ice_min_year', 'ice_temp_median', 'ice_thickness_median', 'icecon1', 'icecon2', 'icecon3', 'id1', 'id2', 'id_number', 'identifier', 'iii', 'ile', 'ile_st_dev', 'ile_stdev', 'illecebrosus', 'illex', 'illex_illecebrosus', 'image', 'image_source', 'image_zip_download_link', 'in_water_datetime_utc', 'in_water_time_local', 'inc', 'incorp', 'incorporation', 'incorporation_acetate_uptake_rate_constant', 'increment', 'incubation', 'ind', 'ind_type', 'indep', 'indep_spectra_tot', 'index', 'individual', 'individual_id', 'informal', 'ingested', 'inhibition', 'init', 'initial', 'initial_avg_size', 'initial_movement_angle', 'initial_movement_direction', 'initial_ph', 'initial_ph_stdev', 'inorganic', 'inorganic_nanoparticle', 'inorganic_poly_p_hydrolysis', 'insitu', 'insoluble', 'inst', 'institution', 'instr', 'instrument', 'instrument1', 'instrument2', 'instrument3', 'instrument_and_model', 'instrument_model', 'integ', 'integrated', 'intensity', 'intensity_type', 'interaction', 'interaction_type', 'interactions', 'intercept', 'intercepts', 'internal', 'interp', 'interp_date', 'interp_distance', 'interp_wind', 'interspecific', 'invasive', 'invasivecoral', 'inverse', 'inverse_radius_t0', 'inverse_radius_t2ms', 'inverse_radius_t4ms', 'inverse_radius_t6ms', 'inverse_radius_t8ms', 'invert', 'invert_count', 'inverts', 'investigator', 'invivo_fluorescence', 'iron', 'iron_ammonium_sulfate', 'iron_iii_sulfate', 'irradiance', 'irradiance_mol_per_m2', 'is_seller_the_fisher', 'island', 'iso', 'iso_16_1w7', 'iso_16_1w9c', 'iso_16_1w9t', 'iso_c13', 'iso_c14', 'iso_c15', 'iso_c16', 'iso_c17', 'iso_c19_0', 'iso_date_utc', 'iso_datetime_end_bc_local', 'iso_datetime_end_bc_utc', 'iso_datetime_end_hc_local', 'iso_datetime_end_hc_utc', 'iso_datetime_local', 'iso_datetime_local_end', 'iso_datetime_local_scan', 'iso_datetime_start_bc_local', 'iso_datetime_start_bc_utc', 'iso_datetime_start_hc_local', 'iso_datetime_start_hc_utc', 'iso_datetime_utc', 'iso_datetime_utc_end', 'isogroups', 'isogroups_num', 'isol_d15n', 'isolate', 'isolate_code', 'isolated', 'isolation', 'isolation_source', 'isoleucine', 'isopora', 'isotope', 'ithkns1', 'ithkns2', 'ithkns3', 'itype1', 'itype1code', 'itype2', 'itype2code', 'itype3', 'itype3code', 'jarosite', 'jet', 'jet_flowrate', 'julian', 'julian_date', 'julian_day', 'k40', 'k40_conc_dry', 'kd_mean', 'kd_par', 'kd_se', 'kdc', 'kegg', 'kegg_category', 'kelvin', 'kill', 'kill_species', 'kills', 'km0', 'km3', 'ko_num', 'kr_ar', 'kr_ar2', 'kr_arsat', 'kr_arsat2', 'kr_conc', 'kr_conc2', 'kr_flag', 'kr_sat', 'kr_sat_stdev', 'kr_stdev', 'krsat', 'krsat2', 'l1_95pcnt_ci', 'l1_95pcnt_ci_fish', 'l1_flag', 'l1_flag_fish', 'l1fe_d_conc_bottle', 'l1fe_d_conc_fish', 'l1fe_d_logk_bottle', 'l1fe_d_logk_fish', 'l2', 'l2_95pcnt_ci', 'l2_95pcnt_ci_fish', 'l2_flag', 'l2_flag_fish', 'l2fe_d_conc_bottle', 'l2fe_d_conc_fish', 'l2fe_d_logk_bottle', 'l2fe_d_logk_fish', 'l3', 'l3_95pcnt_ci', 'l3_95pcnt_ci_fish', 'l3_flag', 'l3_flag_fish', 'l3fe_d_conc_bottle', 'l3fe_d_conc_fish', 'l3fe_d_logk_bottle', 'l3fe_d_logk_fish', 'lab', 'lab_id', 'label', 'laboratory', 'labrynthiformes', 'lag', 'lag_res_n', 'lag_res_pres', 'lameshur', 'lameshur_wind', 'laminaria', 'laminaria_longipes_density', 'laminaria_spp_density', 'laminaria_yezoensis_density', 'land', 'land_use', 'lane', 'large', 'large_eukaryotic_phytoplankton', 'larva', 'larva_id', 'larval', 'larval_axial_rotation_ang', 'larval_length', 'larval_propulsive_force', 'larval_stage', 'larval_survival', 'lat', 'lat2', 'lat_2', 'lat_deg', 'lat_end', 'lat_max', 'lat_min', 'lat_n', 'lat_start', 'latitude', 'latitude_degmin', 'latitude_dms', 'layout', 'lbs', 'lbs_caught', 'leaf', 'leaf_area', 'leaf_pair', 'leather', 'leathercoral', 'leaves', 'leaves_num', 'ledge', 'ledge_id', 'ledge_position', 'ledge_position_2', 'ledge_position_3', 'ledge_position_4', 'ledge_position_5', 'ledge_treat', 'leg', 'len', 'length', 'length_avg', 'length_cm', 'length_day', 'length_max_1', 'length_max_10', 'length_max_100', 'length_max_15', 'length_max_150', 'length_max_2', 'length_max_20', 'length_max_25', 'length_max_3', 'length_max_30', 'length_max_35', 'length_max_4', 'length_max_40', 'length_max_45', 'length_max_5', 'length_max_50', 'length_max_6', 'length_max_7', 'length_max_8', 'length_max_9', 'length_median', 'length_mm', 'length_stdev', 'length_total', 'length_transect', 'length_type', 'lengths', 'lengths_greater_than_25mm', 'leptastrea', 'lesion', 'lesion_area', 'lesion_num', 'lesion_proportion', 'lesioned', 'lesionedleaves_count', 'lettuce', 'lettuce_foliose_unid', 'lettuce_foliose_unid2', 'leu', 'leu_d15n', 'leu_st_dev', 'leu_stdev', 'leuc', 'leuc_3h_dark_incorp_mean', 'leuc_3h_dark_incorp_mean_1100uatm_pco2', 'leuc_3h_dark_incorp_mean_750uatm_pco2', 'leuc_3h_dark_incorp_std_dev', 'leuc_3h_dark_incorp_std_dev_1100uatm_pco2', 'leuc_3h_dark_incorp_std_dev_750uatm_pco2', 'leuc_3h_dark_num_obs', 'leuc_3h_dark_num_obs_1100uatm_pco2', 'leuc_3h_dark_num_obs_750uatm_pco2', 'leuc_3h_light_incorp_mean', 'leuc_3h_light_incorp_mean_1100uatm_pco2', 'leuc_3h_light_incorp_mean_750uatm_pco2', 'leuc_3h_light_incorp_std_dev', 'leuc_3h_light_incorp_std_dev_1100uatm_pco2', 'leuc_3h_light_incorp_std_dev_750uatm_pco2', 'leuc_3h_light_incorp_stdev', 'leuc_3h_light_num_obs', 'leuc_3h_light_num_obs_1100uatm_pco2', 'leuc_3h_light_num_obs_750uatm_pco2', 'leucine', 'leucoraja', 'leucoraja_ocellata', 'level', 'lg_purple_spts', 'lg_purple_spts_avg', 'lg_purple_spts_avg_sd', 'library', 'library_id', 'library_layout', 'library_selection', 'library_source', 'library_strategy', 'life', 'life_history_stage', 'life_stage', 'lifespan', 'light', 'light_conditions', 'light_cycle', 'light_dark_hr', 'light_image_filename', 'light_level_umol_m2_s', 'light_tran_v', 'light_trans', 'light_trans_v', 'light_transmission', 'lignin', 'like', 'limanda', 'limanda_ferruginea', 'line', 'linear', 'linest', 'linest_intercept', 'linest_slope', 'link', 'linker', 'linker_primer_sequence', 'lion', 'lion_behav', 'lion_pos', 'lion_size', 'lionfish', 'lionfish_density_initial', 'lionfish_density_mean', 'lionfish_id', 'lionfish_size', 'liquid', 'lite', 'litho', 'litho_lpt_conc_pump', 'litho_lpt_conc_pump_qv_odv', 'litho_lpt_conc_pump_stdev', 'litho_spt_conc_pump', 'litho_spt_conc_pump_qv_odv', 'litho_spt_conc_pump_stdev', 'live', 'livearea', 'livecoral_nocabbage', 'livepolypsnum_end', 'livepolypsnum_start', 'ln_celldensity', 'ln_ko', 'lndaytime', 'lntemp', 'loading', 'lobata', 'loc', 'loc_q_flaq', 'local', 'location', 'location_caught', 'location_code', 'location_name', 'location_sold', 'locations', 'locations_where_species_were_collected', 'loci', 'locus1', 'locus10', 'locus10_29109tetba', 'locus10_29109tetbb', 'locus11', 'locus11_6231tetba', 'locus11_6231tetbb', 'locus12', 'locus12_6266triya', 'locus12_6266triyb', 'locus13', 'locus13_6326tetya', 'locus13_6326tetyb', 'locus14', 'locus14_985tetga', 'locus14_985tetgb', 'locus1_1419triba', 'locus1_1419tribb', 'locus2', 'locus2_14528tetya', 'locus2_14528tetyb', 'locus3', 'locus3_18144triga', 'locus3_18144trigb', 'locus4', 'locus4_21378triga', 'locus4_21378trigb', 'locus5', 'locus5_23415tetra', 'locus5_23415tetrb', 'locus6', 'locus6_23889triba', 'locus6_23889tribb', 'locus7', 'locus7_25362triga', 'locus7_25362trigb', 'locus8', 'locus8_25632tetra', 'locus8_25632tetrb', 'locus9', 'locus9_25745tetba', 'locus9_25745tetbb', 'log', 'log10', 'log_aoatoaob', 'log_k1_95pcnt_ci', 'log_k1_95pcnt_ci_fish', 'log_k1_flag', 'log_k1_flag_fish', 'log_k2_95pcnt_ci', 'log_k2_95pcnt_ci_fish', 'log_k2_flag', 'log_k2_flag_fish', 'log_k3_95pcnt_ci', 'log_k3_95pcnt_ci_fish', 'log_k3_flag', 'log_k3_flag_fish', 'logchla', 'logk', 'logk_radionuclide', 'logkd_210pb', 'logkd_233pa', 'logkd_234th', 'logkd_237np', 'logkd_59fe', 'logkd_7be', 'logkdc_210pb', 'logkdc_233pa', 'logkdc_234th', 'logkdc_237np', 'logkdc_59fe', 'logkdc_7be', 'logphaeo', 'loligo', 'loligo_pealeii', 'lon2', 'lon_2', 'lon_360', 'lon_deg', 'lon_end', 'lon_max', 'lon_min', 'lon_n', 'lon_start', 'long', 'longipes', 'longitude', 'longitude_degmin', 'longitude_dms', 'lophius', 'lophius_americanus', 'loss', 'lost', 'low', 'low_depth_best', 'lower', 'lowheterotrophicbac', 'lpt', 'lresp', 'lrespa', 'lrespc', 'lt10um', 'lt10um_poc_13c', 'lt10um_poc_moles', 'lt10um_poc_ug', 'lt10um_pon_15n', 'lt10um_pon_moles', 'lt10um_pon_ug', 'lt5um', 'lt_3000_amu', 'lter', 'lunar', 'lunar_date', 'lunar_day', 'lut', 'lutein', 'lwe', 'lwe_precipitation_rate', 'lwr', 'lys', 'lys_d15n', 'lys_st_dev', 'lys_stdev', 'lysine', 'm_do', 'm_salinity', 'm_silicate', 'm_to_c_peak', 'macro', 'macro_algae', 'macroalgae', 'macroalgaecover_mean', 'macroalgaecover_se', 'madracis', 'madracis_decactis', 'magellanicus', 'magic', 'magic_srp', 'magnesium', 'magnesium_sulfate', 'male', 'management', 'map', 'mapr', 'mass', 'mass_concentration_of_phosphate_in_sea_water', 'mass_concentration_of_silicate_in_sea_water', 'mass_dry', 'mass_plant', 'mast', 'material', 'matime', 'matter', 'max', 'max_contig_length', 'max_depth_grazed_mm', 'max_diameter', 'max_diameter_1_cm', 'max_fl', 'max_fl_em', 'max_fluor', 'max_lionfish_density', 'max_lionfish_number', 'max_par', 'max_sample_depth', 'max_tl', 'max_tube_length', 'maxndvi', 'mcg', 'mcg_replicate_1', 'mcg_replicate_2', 'mclane_cast', 'mclane_date_local', 'mclane_time_local', 'mda', 'mda_id', 'me10', 'me10_16', 'mean', 'mean_attached_blankcorrected', 'mean_celldiameter', 'mean_contig_length', 'mean_displacement', 'mean_distribution_latitude', 'mean_fvfm', 'mean_growthrate', 'mean_height', 'mean_righting_time', 'mean_sigma', 'mean_sio4', 'mean_specific_u', 'mean_wtcpue', 'meandrina', 'meandrina_meandrites', 'meandrites', 'meangsi', 'meanndvi', 'meanprice', 'measure', 'measurement', 'measurements', 'measurements_per_day', 'meat', 'media', 'median', 'medium', 'megafauna', 'megafauna_collections', 'melanogrammus', 'melanogrammus_aeglefinus', 'menticirrhus', 'menticirrhus_americanus', 'merluccius', 'merluccius_albidus', 'merluccius_bilinearis', 'mesh', 'mesh_size', 'mesocosm', 'met', 'met_st_dev', 'metab', 'metabaa_thr', 'metabaa_thr_significant_difference', 'metagenome', 'metagenome_sample_name', 'metal', 'metatranscriptome', 'metatranscriptome_sample_name', 'meteorological', 'meteorology', 'meter', 'meth', 'meth_ext', 'methanogens', 'methanol', 'methanol_a635', 'methanol_a668', 'methionine', 'method', 'methods', 'methyl', 'methyl_10_c16', 'mfps', 'mfps_avg', 'mfps_avg_sd', 'mfps_log10', 'mg_c_l', 'mg_caco3_cm3', 'mg_flag', 'mg_n_l', 'mg_wm', 'mg_wm_corr', 'micro', 'micro_treatment', 'microdictyon', 'micropogonias', 'micropogonias_undulatus', 'microzoo', 'microzoo_graz_5_to_20um', 'microzoo_graz_gt20um', 'microzoo_graz_lt5um', 'microzoo_graz_std_err_5_to_20um', 'microzoo_graz_std_err_gt20um', 'microzoo_graz_std_err_lt5um', 'microzoo_graz_std_err_total', 'microzoo_graz_total', 'millepora', 'millepora2', 'min', 'min_contig_length', 'min_diameter', 'min_sample_depth', 'min_tl', 'minor', 'minute', 'minute_gmt', 'mmetsp', 'mmetsp_id', 'mmetsp_id_paste', 'mmol', 'mn_flag', 'mn_hac_l_avg_aerosol', 'mn_hac_l_qf_aerosol', 'mn_hac_l_var_aerosol', 'mn_lpt_conc_pump', 'mn_lpt_conc_pump_qv_odv', 'mn_lpt_conc_pump_stdev', 'mn_spt_conc_pump', 'mn_spt_conc_pump_qv_odv', 'mn_spt_conc_pump_stdev', 'mn_tp_conc_avg_aerosol', 'mn_tp_conc_bottle', 'mn_tp_conc_bottle_stdev', 'mn_tp_conc_qf_aerosol', 'mn_tp_conc_var_aerosol', 'mno2_lpt_conc_pump', 'mno2_lpt_conc_pump_qv_odv', 'mno2_lpt_conc_pump_stdev', 'mno2_spt_conc_pump', 'mno2_spt_conc_pump_qv_odv', 'mno2_spt_conc_pump_stdev', 'mo_lpt_conc_pump', 'mo_lpt_conc_pump_qv_odv', 'mo_lpt_conc_pump_stdev', 'mo_spt_conc_pump', 'mo_spt_conc_pump_qv_odv', 'mo_spt_conc_pump_stdev', 'model', 'mog', 'mol', 'mole', 'mole_concentration_of_ammonium_in_sea_water', 'mole_concentration_of_nitrate_in_sea_water', 'mole_concentration_of_nitrite_in_sea_water', 'moles', 'monado', 'monitoring', 'montastraea', 'montastraea_cavernosa', 'month', 'month_begin', 'month_cruise_begin', 'month_cruise_end', 'month_end', 'month_gmt', 'month_local', 'month_sampled', 'month_start', 'month_utc', 'month_utc_begin', 'month_utc_end', 'montipora', 'montipora2', 'morhua', 'morph', 'mortality', 'motor', 'mounding1', 'mounding1_astreopora', 'mounding1_leptastrea', 'mounding1_porites_lobata', 'mounding1_simple_unid', 'mounding1_unid2', 'mounding2', 'mounding2_complex_unid', 'mounding2_unid2', 'mouth', 'mouth_hs', 'mouth_nh4', 'mouth_salinity', 'mouth_se', 'mouth_sediment_chla', 'mouth_sediment_chla_se', 'mouth_temperature', 'mouth_watercolumn_nh4', 'mouth_watercolumn_nh4_se', 'mouth_watercolumn_no3', 'mouth_watercolumn_no3_se', 'mouth_watercolumn_po4', 'mouth_watercolumn_po4_se', 'movement', 'mox', 'muf', 'muf_p_hydrolysis', 'multi', 'muricea', 'muriceopsis', 'mussa', 'mycetophylla', 'mycetophyllia', 'myxo', 'n02', 'n03', 'n03_n02', 'n2_ar', 'n2_ar2', 'n2_ar_secondary', 'n2_ar_secondary2', 'n2_arsat', 'n2_arsat2', 'n2arsat_secondary', 'n2arsat_secondary2', 'n2o_conc', 'n2o_conc_nm', 'n2o_conc_sd', 'n2o_conc_um', 'n2o_flux', 'n2o_sample_id_1', 'n2o_sample_id_2', 'n2o_sat_mol_kg', 'n2o_sat_nmol_l', 'n2o_sp', 'n2o_sp_sd', 'n50', 'n_0256_0279', 'n_0279_0304', 'n_0304_0332', 'n_0332_0362', 'n_0362_0395', 'n_0395_0431', 'n_0431_0470', 'n_0470_0512', 'n_0512_0558', 'n_0558_0609', 'n_0609_0664', 'n_0664_0724', 'n_0724_0790', 'n_0790_0861', 'n_0861_0939', 'n_0939_1024', 'n_1024_1117', 'n_1117_1218', 'n_1218_1328', 'n_1328_1448', 'n_1448_1579', 'n_1579_1722', 'n_1722_1878', 'n_1878_2048', 'n_amount_ug', 'n_excrete', 'n_excrete_mass', 'n_excrete_mass_stdev', 'n_excrete_stdev', 'n_f', 'n_f_err', 'n_f_err_swimmer', 'n_f_swimmer', 'n_fixation_rate_absolute', 'n_mass_sample', 'n_n2', 'n_pcent', 'naeps', 'name', 'name_of_bay', 'name_of_site', 'names', 'nanoeukaryotes', 'nanoeukaryotic', 'nanoeukaryotic_phytoplankton', 'nanoparticle', 'national', 'nbin', 'nbr', 'nbr_of_samples', 'ncbi', 'ncbi_fasta_link', 'ncc', 'ncc_q_0_8', 'ncc_q_0_9', 'ncc_q_1_0', 'ncc_q_1_1', 'ncc_q_1_2', 'ncei', 'ncgr', 'ncgr_pep_id_paste', 'ncp', 'nd_lpt_conc_pump', 'nd_lpt_conc_pump_qv_odv', 'nd_lpt_conc_pump_stdev', 'nd_spt_conc_pump', 'nd_spt_conc_pump_qv_odv', 'nd_spt_conc_pump_stdev', 'ndic', 'ndvi', 'ne_ar', 'ne_ar2', 'ne_arsat', 'ne_arsat2', 'ne_conc', 'ne_conc2', 'ne_flag', 'ne_sat', 'ne_sat_stdev', 'ne_stdev', 'neo', 'neox', 'neph', 'neph_counts', 'neph_volts', 'nesat', 'nesat2', 'nesdis', 'net', 'net_calcification', 'net_mesh', 'net_opening', 'new', 'new_set_n', 'new_set_pres', 'nezh', 'nfix', 'nfix_stdev', 'nfix_umol_n_m2_d', 'nh3', 'nh4', 'nh4_15n_added', 'nh4_15n_tracer', 'nh4_um', 'nh4_usf', 'nh4a', 'nh4b', 'nh4c', 'ni_flag', 'ni_lpt_conc_pump', 'ni_lpt_conc_pump_qv_odv', 'ni_lpt_conc_pump_stdev', 'ni_spt_conc_pump', 'ni_spt_conc_pump_qv_odv', 'ni_spt_conc_pump_stdev', 'night', 'nip', 'nis', 'niskin', 'nitrate', 'nitrate_sd', 'nitrification', 'nitrite', 'nitrogen', 'nitrogen_fixation_rate_se', 'nmol', 'no2', 'no2_usf', 'no2a', 'no2b', 'no2c', 'no3', 'no3_bigelow', 'no3_no2', 'no3_no2_d15n', 'no3_no2_d15n_1_sd', 'no3_no2_sd', 'no3_no2_usf', 'no3_plus_no2', 'no3_sample_ids', 'no3_ucsb', 'no3_udo', 'no3_um', 'no3a', 'no3b', 'no3c', 'no_choice_amphipod_size_mm', 'no_choice_final_weight_mg', 'no_choice_initial_weight_mg', 'no_cons', 'no_replicates', 'noaa', 'nochoice', 'nodc', 'nodc_code', 'non', 'nonpigmentpico', 'noon', 'noon_kd', 'noon_percent', 'normalized', 'northing', 'notatus', 'note', 'note_bulk_d15n', 'note_gly_d15n', 'note_organism', 'notes', 'nox', 'npq', 'ns1', 'ns2', 'ns3', 'ns4', 'nt_alk', 'nto', 'ntop', 'nubbin', 'nubbin_number', 'num', 'num_bites', 'num_caught', 'num_departed', 'num_end', 'num_fish_len', 'num_max', 'num_measure', 'num_new', 'num_per_m3', 'num_replicate_bottles', 'num_samples', 'num_spat', 'num_st1', 'num_st2', 'num_st3', 'num_st4', 'num_st5', 'num_st6', 'num_st7', 'num_st8', 'num_st9', 'num_start', 'num_unique_peptide', 'numb', 'numb_obs', 'numb_records', 'number', 'number_blows', 'number_kills', 'number_strikes', 'numbers', 'nurse', 'nut', 'nutrients', 'o1_15n2', 'o1_n2o', 'o1_o2', 'o1_sed_15n', 'o2', 'o2_15n2', 'o2_avg', 'o2_cal', 'o2_conc', 'o2_consume', 'o2_consumed', 'o2_consumed_stdev', 'o2_control', 'o2_expt', 'o2_max', 'o2_mg_l', 'o2_mg_l_mean', 'o2_min', 'o2_ml_l', 'o2_ml_l_2', 'o2_n2o', 'o2_nis', 'o2_o2', 'o2_respiration', 'o2_sat', 'o2_sat_ml_l', 'o2_sat_umol_kg', 'o2_sed_15n', 'o2_stdev', 'o2_sterr', 'o2_um', 'o2_um_kg', 'o2_um_kg_2', 'o2_umol_kg', 'o2_umol_l', 'o2_v', 'o2_volts', 'o3_15n2', 'o3_n2o', 'o3_o2', 'o3_sed_15n', 'o_phospho_l_serine', 'o_phosphorylethanolamine', 'oa1', 'oa1_15n2', 'oa1_del15n_digestive', 'oa1_del15n_meat', 'oa1_n2o', 'oa1_o2', 'oa2', 'oa2_15n2', 'oa2_del15n_digestive', 'oa2_del15n_meat', 'oa2_n2o', 'oa2_o2', 'oa3', 'oa3_15n2', 'oa3_del15n_digestive', 'oa3_del15n_meat', 'oa3_n2o', 'oa3_o2', 'obs', 'observation', 'observation_time', 'observations', 'observer', 'occupation', 'ocean', 'ocean_color', 'oceanographic', 'oceanography', 'oceans', 'oceans_ocean_chemistry_ammonia', 'oceans_ocean_chemistry_chlorophyll', 'oceans_ocean_chemistry_nitrate', 'oceans_ocean_chemistry_oxygen', 'oceans_ocean_chemistry_ph', 'oceans_ocean_chemistry_phosphate', 'oceans_ocean_chemistry_silicate', 'oceans_ocean_optics_photosynthetically_active_radiation', 'oceans_ocean_optics_radiance', 'oceans_salinity_density_conductivity', 'oceans_salinity_density_density', 'oceans_salinity_density_salinity', 'oceans_sea_surface_topography_sea_surface_height', 'ocellata', 'octocoral', 'octocorals', 'octocorals_total', 'ocwe', 'ocwe_std', 'odo', 'odt', 'odv', 'off1', 'off1a', 'off1c', 'off2', 'off2a', 'off2c', 'offered', 'office', 'official', 'offset', 'offshore', 'offspring', 'offspring_id', 'ofi', 'ofi_per_cell', 'oh3', 'oh4', 'omega', 'omega_0_3m', 'omega_0_5m', 'omega_1_1m', 'omega_ar', 'omega_calcite', 'omegaaragonite', 'omegacalcite', 'ona', 'onc', 'only', 'opal', 'opal_lpt_conc_pump', 'opal_lpt_conc_pump_qv_odv', 'opal_lpt_conc_pump_stdev', 'opal_spt_conc_pump', 'opal_spt_conc_pump_qv_odv', 'opal_spt_conc_pump_stdev', 'open', 'open_tile_alive', 'open_tile_dead', 'opening', 'operated', 'opn', 'opnwtrcode', 'optical', 'optical_properties', 'optics', 'optode', 'optode_temp', 'optode_therm_v', 'oral', 'oralarm_capture', 'orbicella', 'orbicella_annularis', 'orbicella_complex', 'orbicella_faveolata', 'orbicella_franksi', 'order', 'organic', 'organic_nanoparticle', 'organism', 'organism_type', 'orientation', 'orig', 'orig_file_name', 'origin', 'origin_location', 'origin_location_condition', 'origin_region', 'orthogonal', 'orthogonal_diameter_cm', 'other_ascidian', 'other_avg', 'other_avg_sd', 'other_bryozoan', 'other_gastropod', 'otherinverts', 'oto', 'oton', 'oton_stdev', 'out', 'over', 'overall', 'overall_survival', 'owner', 'owner_dataset', 'oxide', 'oxy', 'oxy_phase', 'oxycurrent', 'oxygen', 'oxygen_cal', 'oxygen_concentration', 'oxygena', 'oxygenb', 'oxygensaturationa', 'oxygensaturationb', 'oxytemp', 'oyster', 'p04', 'p10', 'p14', 'p33_po4_incorp_piii_pcent', 'p33_po4_incorp_piii_rate', 'p33_po4_uptake', 'p_cu_prime', 'p_fe_prime', 'p_flag', 'p_lpt_conc_pump', 'p_lpt_conc_pump_qv_odv', 'p_lpt_conc_pump_stdev', 'p_mn_prime', 'p_spt_conc_pump', 'p_spt_conc_pump_qv_odv', 'p_spt_conc_pump_stdev', 'p_tp_conc_bottle', 'p_tp_conc_bottle_stdev', 'p_zn_prime', 'pa233', 'pa233_activity', 'pa233_pcnt_activity_eps_si_minus', 'pa233_pcnt_activity_eps_si_plus', 'pa_sd', 'pacific', 'packet', 'padina', 'padina_after', 'padina_before', 'padina_log', 'padina_loss', 'padina_loss_g', 'pair', 'pair_id', 'pairs', 'pairs_1_0', 'palmer', 'palmerlter_station', 'panel', 'paper', 'par', 'par1', 'par2', 'par_d_day', 'par_d_expt', 'par_daytime', 'par_doghouse', 'par_h2o', 'par_lndaytime', 'par_lnh2o', 'par_mast', 'par_percent', 'par_scalar', 'par_scalar_day', 'par_v', 'paralichthys', 'paralichthys_dentatus', 'pardepth', 'parent1', 'parent1_id', 'parent2', 'parent2_id', 'part', 'part_210pb', 'part_233pa', 'part_234th', 'part_237np', 'part_59fe', 'part_7be', 'particle', 'particle_size', 'particle_type', 'particles', 'particles_per_l', 'particulate', 'particulate_element_sulfur_flags', 'particulate_elemental_sulfur', 'partition', 'partition_coefficient_of_210pb_kc', 'partition_coefficient_of_210po_kc', 'partition_coefficient_of_7be_kc', 'passage', 'passage_history', 'paste', 'pb210', 'pb210_activity', 'pb210_pcnt_activity_eps_si_minus', 'pb210_pcnt_activity_eps_si_plus', 'pb210_recovery', 'pb_206_204_d_ratio_bottle', 'pb_206_204_d_ratio_bottle_flag', 'pb_206_207_d_ratio_bottle', 'pb_206_207_d_ratio_bottle_flag', 'pb_208_207_d_ratio_bottle', 'pb_208_207_d_ratio_bottle_flag', 'pb_chla_ratio', 'pb_d_conc_bottle', 'pb_d_conc_bottle_flag', 'pb_d_conc_bottle_sd', 'pb_hac_l_avg_aerosol', 'pb_hac_l_qf_aerosol', 'pb_hac_l_var_aerosol', 'pb_lpt_conc_pump', 'pb_lpt_conc_pump_qv_odv', 'pb_lpt_conc_pump_stdev', 'pb_sd', 'pb_spt_conc_pump', 'pb_spt_conc_pump_qv_odv', 'pb_spt_conc_pump_stdev', 'pb_tp_conc_avg_aerosol', 'pb_tp_conc_qf_aerosol', 'pb_tp_conc_var_aerosol', 'pbrec', 'pcatch', 'pcent', 'pcent_c', 'pcent_n', 'pcnt', 'pcnt_c_g_per_gdw', 'pcnt_cells_feeding', 'pcnt_coc', 'pcnt_comp_fe_eps_si_minus', 'pcnt_comp_fe_eps_si_plus', 'pcnt_comp_protein_eps_si_minus', 'pcnt_comp_protein_eps_si_plus', 'pcnt_comp_tcho_eps_si_minus', 'pcnt_comp_tcho_eps_si_plus', 'pcnt_con', 'pcnt_n_g_per_gdw', 'pcnt_pn', 'pcnt_poc', 'pcnt_ura_tcho', 'pco2', 'pco2_avg', 'pco2_sd', 'pco2_target_range', 'pco2_treatment', 'pco2_uatm', 'pco2weights', 'pct', 'pct_cov', 'peak', 'peak_acceleration', 'peak_strike_speed', 'pealeii', 'pep', 'peprilus', 'peprilus_triacanthus', 'peptide', 'peptide_seq', 'per', 'perc', 'perc_counted', 'percent', 'percent_carbon', 'percent_nitrogen', 'percent_phenolics', 'percent_protein', 'percent_recovery_c', 'percent_recovery_n', 'percent_survivorship', 'percentsimilarity_besthit', 'perco', 'perid', 'perid_corr', 'peridinin', 'perimeter', 'period', 'ph25', 'ph_0_3m', 'ph_0_5m', 'ph_1_1m', 'ph_3p10', 'ph_at_25c', 'ph_corrected', 'ph_external', 'ph_init', 'ph_insitu', 'ph_internal', 'ph_mv', 'ph_s1p1', 'ph_s1p2', 'ph_s1p3', 'ph_s2p3', 'ph_s2p4', 'ph_s2p5', 'ph_s2p6', 'ph_s3p7', 'ph_s3p8', 'ph_s3p9', 'ph_sd', 'ph_t0', 'ph_t2', 'ph_t20', 'ph_t24', 'ph_t30', 'ph_t6', 'ph_term', 'ph_total', 'ph_treatment', 'phaeo', 'phaeo_8um', 'phaeo_gf', 'phaeo_total_nr_bot_extr', 'phaeopigments', 'phase', 'phe', 'phe_d15n', 'phe_st_dev', 'phe_stdev', 'phenolics', 'phenols', 'phenylalanine', 'pheo', 'pheo_fluor', 'phi', 'phide', 'phide_a', 'phin', 'phorozooid', 'phosphate', 'phosphate_sd', 'phospho', 'phosphorylethanolamine', 'phosphotidylcholine', 'photon', 'photosynthetic', 'photosynthetic_eukaryotes', 'photosynthetic_eukaryotes_stdev', 'photosynthetically', 'pht25a', 'pht25b', 'pht25c', 'phylum', 'phylum_max', 'physical', 'physical_oceanography', 'phytic', 'phytic_acid', 'phytin', 'phytin_a', 'phyto', 'phyto_15n', 'phytopl', 'phytopl_tot', 'phytoplankton', 'phytoplankton_species', 'pi_sampno', 'pic', 'pic_lpt_pump_conc', 'pic_lpt_pump_conc_qv_odv', 'pic_lpt_pump_conc_stdev', 'pic_pgcpercell', 'pic_spt_pump_conc', 'pic_spt_pump_conc_qv_odv', 'pic_spt_pump_conc_stdev', 'pic_ugcperl', 'pico', 'picoeukaryote', 'picoeukaryotes', 'picoeukaryotic', 'picoeukaryotic_phytoplankton', 'piconumber', 'pigment', 'pigment_content', 'pip', 'pir', 'pit', 'pit_volume_cm3', 'pixel', 'pixel_to_mm', 'placopecten', 'placopecten_magellanicus', 'plank', 'plankton', 'plankton_size_fraction', 'plant', 'plant_id', 'platessoides', 'platform', 'pld', 'plexaura', 'plexauraabundance_mean', 'plexauraabundance_se', 'plexauracover_mean', 'plexauracover_se', 'plexaurella', 'plot', 'plumes', 'plumes_venturi', 'pmax', 'pmaxa', 'pmaxc', 'pmin', 'pmin_count', 'pmin_ofi_count', 'pn_lpt_pump_conc', 'pn_lpt_pump_conc_qv_odv', 'pn_lpt_pump_conc_stdev', 'pn_spt_pump_conc', 'pn_spt_pump_conc_qv_odv', 'pn_spt_pump_conc_stdev', 'pn_ug_l', 'pnsink', 'pnsink_flux', 'pnsink_flux_sd', 'po210', 'po210_activity', 'po210_pcnt_activity_eps_si_minus', 'po210_pcnt_activity_eps_si_plus', 'po210_recovery', 'po4', 'po4_bigelow', 'po4_ucsb', 'po4_udo', 'po4_usf', 'po4a', 'po4b', 'po4c', 'po_sd', 'poc', 'poc_13c', 'poc_bbp', 'poc_lpt_pump_conc', 'poc_lpt_pump_conc_qv_odv', 'poc_lpt_pump_conc_stdev', 'poc_moles', 'poc_pgcpercell', 'poc_rep1', 'poc_rep2', 'poc_rep3', 'poc_spt_pump_conc', 'poc_spt_pump_conc_qv_odv', 'poc_spt_pump_conc_stdev', 'poc_ug', 'poc_ug_kg', 'poc_ug_l', 'poc_ugcperml', 'pocconsumed', 'pocex', 'pocillopora', 'pocillopora_colonies', 'pocillopora_conspecific_interactions', 'pocillopora_interspecific_interactions', 'pocillopora_pocillopora_interactions', 'pocin', 'pocre', 'point', 'polar', 'polar_diatoms', 'pollachius', 'pollachius_virens', 'poly', 'polychaete', 'polyp', 'polyphosphate_cl15', 'polyps', 'polyps_num', 'pom', 'pom_lpt_conc_pump', 'pom_lpt_conc_pump_qv_odv', 'pom_lpt_conc_pump_stdev', 'pom_spt_conc_pump', 'pom_spt_conc_pump_qv_odv', 'pom_spt_conc_pump_stdev', 'pomatomus_saltatrix', 'pon', 'pon_15n', 'pon_moles', 'pon_rep1', 'pon_rep2', 'pon_rep3', 'pon_ug', 'pon_ug_kg', 'pond', 'pooled', 'poorly', 'poorly_crystalline_iron_oxide', 'pop', 'pop_rep1', 'pop_rep2', 'pop_rep3', 'population', 'porec', 'porites', 'porites_astreoides', 'port', 'port_group', 'portlat', 'portlon', 'pos', 'position', 'positioning', 'pot', 'pot_id', 'potassium', 'potassium_sulfate', 'potemp', 'potemp090', 'potemp090c', 'potemp190', 'potemp190c', 'potemp_2', 'potential', 'potential_temp', 'pp_mean_0pt2um', 'pp_mean_10um', 'pp_mean_1100uatm_pco2_gt_0pt2um', 'pp_mean_2um', 'pp_mean_750uatm_pco2_0pt2um', 'pp_mean_750uatm_pco2_10um', 'pp_mean_750uatm_pco2_2um', 'pp_mean_750uatm_pco2_gt_0pt2um', 'pp_mean_gt_0pt2um', 'pp_num_obs_0pt2um', 'pp_num_obs_10um', 'pp_num_obs_1100uatm_pco2_gt_0pt2um', 'pp_num_obs_2um', 'pp_num_obs_750uatm_pco2_0pt2um', 'pp_num_obs_750uatm_pco2_10um', 'pp_num_obs_750uatm_pco2_2um', 'pp_num_obs_750uatm_pco2_gt_0pt2um', 'pp_num_obs_gt_0pt2um', 'pp_std_dev_0pt2um', 'pp_std_dev_10um', 'pp_std_dev_1100uatm_pco2_gt_0pt2um', 'pp_std_dev_2um', 'pp_std_dev_750uatm_pco2_0pt2um', 'pp_std_dev_750uatm_pco2_10um', 'pp_std_dev_750uatm_pco2_2um', 'pp_std_dev_750uatm_pco2_gt_0pt2um', 'pp_std_dev_gt_0pt2um', 'ppm', 'ppr', 'ppt', 'practical', 'pras', 'prasino', 'prasinox', 'prdm', 'precip_level', 'precip_port', 'precip_rate_port', 'precip_rate_stbd', 'precip_stbd', 'precip_type', 'precipitation', 'predation', 'predation_avg', 'predation_avg_sd', 'predator', 'predator_id', 'predator_size', 'predator_species', 'preds', 'preds1', 'preds1_lwr', 'preds1_upr', 'preliminary', 'pres', 'pres2', 'presence', 'presence_absence', 'present', 'preservation', 'press', 'press_bar', 'press_bar_port', 'press_bar_stbd', 'press_counts', 'press_db', 'press_max', 'press_min', 'pressure', 'prev', 'prey', 'prey_density', 'prey_size', 'prey_stage_class', 'price', 'primary', 'primaryproductivity', 'prime', 'primer', 'princeton', 'prmax', 'pro', 'pro30', 'pro_d15n', 'pro_fals', 'pro_gr_cc', 'pro_red', 'pro_stdev', 'probability', 'probe', 'probe_serialnum', 'processed', 'prochloro', 'prod', 'prod_std_dev', 'production', 'productivity', 'prof', 'prof_num', 'profile', 'profile_name', 'profiler', 'program', 'project', 'project_name', 'project_title', 'prokaryote', 'prokaryotes', 'proline', 'prop', 'prop_hover', 'prop_hunt', 'prop_rest', 'prop_swim', 'properties', 'propionate', 'propogate', 'propogation', 'propogation_error_fvfm', 'propogation_error_sigma', 'propogation_error_u', 'proportion', 'proportion_departed', 'proportion_new', 'propulsion', 'propulsion_direction', 'propulsive', 'propylenediphosphonic', 'propylenediphosphonic_acid', 'protection', 'protein', 'protein_amount', 'protein_avg', 'protein_avg_se', 'protein_c_tcho_c', 'protein_log10', 'protein_log10_avg', 'protein_log10_avg_se', 'protein_probability', 'protists', 'provider', 'ps1', 'ps2', 'ps3', 'ps_n', 'ps_pres', 'pseudopleuronectes', 'pseudopleuronectes_americanus', 'pseudoplexaura', 'psi', 'psp', 'psygmophilium', 'ptccnpy', 'pterogorgia', 'pttno', 'ptvo', 'ptvo_size', 'pu238', 'pu238_act_pcnt', 'pump', 'pump_lat', 'pump_lon', 'pumps', 'purple', 'q_alkalinity_mol_kg', 'q_alkalinity_umol_kg', 'q_c_n_particulate', 'q_chlorophyll', 'q_doc', 'q_don', 'q_dop', 'q_fco2', 'q_fco2_corrected', 'q_nh4_usf', 'q_no2_usf', 'q_no3_no3_usf', 'q_no3_udo', 'q_o2_ml_l', 'q_o2_umol_kg', 'q_ph', 'q_ph_corrected', 'q_phaeopigments', 'q_pip', 'q_pn_ug_l', 'q_po4_udo', 'q_po4_usf', 'q_poc_ug_kg', 'q_poc_ug_l', 'q_pon_ug_kg', 'q_primaryproductivity', 'q_salinity_bottles', 'q_salinity_ctd', 'q_sigma_t', 'q_sio4_udo', 'q_sio4_usf', 'q_tco2', 'q_tco2_corrected', 'q_temperature', 'q_toc', 'q_tpp', 'qbacteria', 'qbacteriaa', 'qbacteriab', 'qbarometricpressurea', 'qbarometricpressureb', 'qchl', 'qchlextracta', 'qchlextractb', 'qdepth', 'qdica', 'qdicb', 'qdicc', 'qliters', 'qnh4', 'qnh4a', 'qnh4b', 'qnh4c', 'qno2', 'qno2a', 'qno2b', 'qno2c', 'qno3', 'qno3a', 'qno3b', 'qno3c', 'qoxygen', 'qoxygena', 'qoxygenb', 'qoxygensaturationa', 'qoxygensaturationb', 'qpht25a', 'qpht25b', 'qpht25c', 'qpo4', 'qpo4a', 'qpo4b', 'qpo4c', 'qsalinityatagoa', 'qsalinityatagob', 'qsalinityportasala', 'qsalinityportasalb', 'qsalinitypro30a', 'qsalinitypro30b', 'qsalinityspyglassa', 'qsalinityspyglassb', 'qsecchi', 'qsecchideptha', 'qsecchidepthb', 'qsi', 'qsioh4a', 'qsioh4b', 'qsioh4c', 'qtemp', 'qtempbottlea', 'qtempbottleb', 'qtemppro30probea', 'qtemppro30probeb', 'qturbidity', 'qturbiditya', 'qturbidityb', 'quad', 'quadrat', 'quadrat_count', 'quadrat_num', 'quality', 'quality_rank', 'radiance', 'radians', 'radiation', 'radiation_l', 'radiation_s', 'radionuclide', 'radius', 'rain', 'rainfall', 'raman', 'raman_shift', 'ramet', 'ramet_individualcolony_id', 'range', 'rank', 'rank_class', 'rank_family', 'rank_genus', 'rank_order', 'rank_phylum', 'rank_species', 'rate', 'ratio', 'ratio_to_oc_pcnt', 'raw', 'raw_sequence_reads', 'raw_vol', 'reactive', 'reads', 'recip', 'recip_size', 'recip_species', 'records', 'recover', 'recover_lat', 'recover_lon', 'recovery', 'red', 'reef', 'reef_id', 'reef_number', 'reef_type', 'reef_zone', 'reefs', 'reefstatus', 'reference', 'refreeze', 'refreeze_begin_day', 'refreeze_begin_month', 'refreeze_begin_year', 'refs', 'regalis', 'region', 'region_line', 'rel', 'rel_embryo_survival', 'rel_hum', 'rel_humidity', 'rel_larval_survival', 'rel_position', 'relatedness', 'relative', 'relative_concentration_eggs', 'relative_concentration_spawning_adult', 'relative_fvfm', 'relative_sigma', 'relative_u', 'remotely', 'rep', 'rep1', 'rep2', 'rep3', 'rep_pres', 'replicate', 'replicate_cell_counts', 'replicate_cell_volume', 'replicate_determinations_chlorophyll_a', 'replicate_determinations_chlorophyll_a_per_unit_cell_volume', 'replicate_determinations_dissolved_dmsp_fmolcell1', 'replicate_determinations_dissolved_dmsp_nmoll1', 'replicate_determinations_particulate_dmsp_fmolcell1', 'replicate_determinations_particulate_dmsp_mmoll_cellvol1', 'replicate_determinations_total_dmsp', 'replicate_number', 'replicate_pair', 'replicates', 'replication', 'reported', 'res', 'res_n', 'res_pres', 'researcher', 'residents', 'residents_1_0', 'residents_n', 'resp', 'resp_rate', 'respiration', 'respiration_acetate_uptake_rate_constant', 'respiration_umolper_gtwperhour', 'respiration_umolperhour', 'rest', 'retr', 'retreat', 'retreat_final_day', 'retreat_final_month', 'retreat_final_year', 'retreat_initial_day', 'retreat_initial_month', 'retreat_initial_year', 'returned', 'rev', 'rgr', 'rgr_gp1', 'rgr_gp1to3_abs', 'rgr_gp1to3_net', 'rgr_gp2', 'rgr_gp3', 'rhodobacteracea', 'rhodobacteraceagrazing_coefficient', 'rhodobacteraceagrowth_constant_mean', 'rhodoliths', 'rhodoliths_freecoralline', 'ribosomal', 'ribosomal_16s_itag_sample_name', 'ribosomal_18s_itag_sample_name', 'ribosome', 'ribosome_pcnt', 'richness', 'righting', 'righting_time_trial1', 'righting_time_trial2', 'righting_time_trial3', 'ripe', 'risk', 'riskexposure', 'river', 'river_dis', 'rock', 'rock_cover_score', 'roi', 'rosette', 'rosette_position', 'rotation', 'rov', 'rov_dive', 'row', 'rpkm', 'rsqr', 'rubble', 'rucv1', 'rucv1_a', 'rucv1_b', 'rucv66', 'rucv66_a', 'rucv66_b', 'rucv73', 'rucv73_a', 'rucv73_b', 'rucv74', 'rucv74_a', 'rucv74_b', 'run', 'run_id_hplc', 'run_pi', 'rus', 's275', 's275_295', 's350', 's350_400', 's_density', 's_flag', 's_pc', 's_per_50l', 's_poly_after', 's_poly_before', 's_poly_log', 's_poly_loss', 's_poly_loss_g', 's_salinity', 's_sample_location', 'sal', 'sal00', 'sal11', 'sal2', 'sal_2', 'sal_avg', 'sal_bottom', 'sal_cal', 'sal_diff', 'sal_in', 'sal_insitu', 'sal_max', 'sal_min', 'sal_nis', 'sal_sample', 'sal_ss', 'sal_ss3', 'sal_ss5', 'sal_stdev', 'sal_sterr', 'sal_surface', 'salinity', 'salinity-temperature-depth', 'salinity_bottles', 'salinity_ctd', 'salinityatagoa', 'salinityatagob', 'salinityportasala', 'salinityportasalb', 'salinitypro30a', 'salinitypro30b', 'salinityspyglassa', 'salinityspyglassb', 'samp', 'samp_fraction_denom', 'samp_size', 'sample', 'sample_bottle_geotrc', 'sample_code', 'sample_description', 'sample_geotrc', 'sample_id', 'sample_mass_grams_t0', 'sample_mass_grams_t10', 'sample_mass_grams_t15', 'sample_mass_grams_t20', 'sample_mass_grams_t5', 'sample_name', 'sample_no', 'sample_number', 'sample_site', 'sample_size', 'sample_size_fvfm', 'sample_size_sigma', 'sample_size_u', 'sample_title', 'sample_type', 'sample_volume', 'sampled', 'sampleid', 'samplelog_date', 'samplelog_location', 'samplelog_notes', 'samplelog_pump', 'samplelog_sample', 'samplelog_seconds', 'samplelog_species', 'samplelog_time', 'samples', 'samples_collected', 'sampling', 'sampling_date', 'sampling_depth', 'sampling_event', 'sampling_method', 'sampling_point', 'sampling_time', 'sampling_time_10', 'sampling_time_t0', 'sampling_time_t15', 'sampling_time_t20', 'sampling_time_t5', 'sampling_timepoint', 'sampno', 'sand', 'sand_cover_score', 'sar11', 'sar11grazing_coefficient', 'sar11growth_constant_mean', 'sarg', 'sarg_sp_after', 'sarg_sp_before', 'sarg_sp_log', 'sarg_sp_loss', 'sarg_sp_loss_g', 'sat', 'satellite', 'satellite_distance', 'satellite_number', 'satellite_size', 'saturation', 'sbe', 'sbe_oxygen', 'sbeox0', 'sbeox0mm_l', 'sbeox0v', 'sbeox1', 'sbeox1mm_l', 'sbeox1v', 'sc_lpt_conc_pump', 'sc_lpt_conc_pump_qv_odv', 'sc_lpt_conc_pump_stdev', 'sc_spt_conc_pump', 'sc_spt_conc_pump_qv_odv', 'sc_spt_conc_pump_stdev', 'scalar', 'scale', 'scan', 'scan_filename', 'scen', 'science', 'scientific', 'scientific_name', 'scleractinian', 'scleractiniancover_mean', 'scleractiniancover_se', 'scomber', 'scomber_scombrus', 'scombrus', 'scophthalmus', 'scophthalmus_aquosus', 'score', 'sd_ciliated_protists', 'sd_cyanobacteria', 'sd_dark_carbon_fixation_rate', 'sd_dissolved_fe', 'sd_dissolved_mn', 'sd_flagellated_protists', 'sd_heterotrophic_bacterial_production', 'sd_methanogens', 'sd_particulate_elemental_sulfur', 'sd_prokaryote_biomass_estimates', 'sd_sulfite', 'sd_thiosulfate', 'sd_total_prokaryotes', 'sd_total_zero_valent_sulfur', 'sd_viral_like_particles_vlp', 'sds', 'se_fit', 'se_flag', 'sea', 'sea_level', 'sea_surface_height', 'sea_water_electrical_conductivity', 'sea_water_ph_reported_on_total_scale', 'sea_water_practical_salinity', 'sea_water_sigma_theta', 'seacucumber', 'seacucumber_chlorostichopus_notatus', 'seafet', 'seagrass', 'seal', 'seal_id', 'season', 'seastar', 'seawater', 'sebastes', 'sebastes_fasciatus', 'sec', 'secchi', 'secchideptha', 'secchidepthb', 'second', 'second_gmt', 'secondary', 'secondary2', 'secondary_analysis_lab', 'seconds', 'seconds_gmt', 'sect', 'sect_bot_depth', 'sect_id', 'sect_top_depth', 'section', 'sed', 'sed_ch4', 'sed_grain', 'sed_rate', 'sed_temp', 'sediment', 'sediment_depth', 'sediment_depth_cm', 'seed', 'seed_pres', 'selection', 'seller', 'sens', 'seq', 'sequence', 'sequence_accession_number', 'sequences', 'sequencing', 'sequencing_and_analysis_methods', 'ser', 'ser_d15n', 'ser_stdev', 'serial', 'serine', 'serpulid', 'set', 'settler', 'settler_n', 'settler_origin', 'settler_pld', 'settler_pres', 'settler_sl', 'settlers', 'settlers_1_0', 'settlers_n', 'severity', 'sex', 'sex_ratio', 'sexratio_propmale', 'shannon', 'shark', 'shed', 'shedarea', 'sheeting', 'sheeting_invasivemontipora', 'sheeting_invasivemontipora2', 'sheeting_unid', 'sheeting_unid2', 'shell', 'shell_cover_score', 'shift', 'ship', 'ships', 'shoot', 'shoot_density', 'shore', 'shore_offshore', 'shu', 'shu_row', 'si04', 'si_flag', 'si_prod_12h', 'si_prod_4h', 'si_prod_bionorm_12h', 'si_prod_bionorm_4h', 'si_prod_bionorm_na2sio3_12h', 'si_prod_bionorm_na2sio3_4h', 'si_prod_na2sio3_12h', 'si_prod_na2sio3_4h', 'sid', 'sid_hplc', 'side', 'siderastrea', 'siderastrea_radians', 'siderastrea_siderea', 'siderea', 'sighting', 'sigma', 'sigma_0', 'sigma_00', 'sigma_1000', 'sigma_11', 'sigma_t', 'sigma_theta', 'sign', 'sign_1', 'sign_2', 'sign_3', 'sign_4', 'significant', 'silicate', 'similarity', 'simple', 'simplebranching_acropora2', 'simplebranching_acroporaspp', 'simplebranching_heliopora', 'simplebranching_heliopora2', 'simplebranching_millepora', 'simplebranching_pocillopora_eydouxi', 'simplebranching_pocillopora_eydouxi2', 'simplebranching_pocillopora_meandrina', 'simplebranching_pocilloporaspp', 'simplebranching_porites_cylindrica', 'simplebranching_porites_rus', 'simplebranching_unid', 'simplebranching_unid2', 'simulation', 'sio2', 'sio4', 'sio4_udo', 'sio4_usf', 'sioh4', 'sioh4a', 'sioh4b', 'sioh4c', 'sioh_4', 'site', 'site_code', 'site_descrip', 'site_description', 'site_id', 'site_location', 'site_name', 'site_number', 'site_pair', 'site_size', 'site_treat', 'site_treatment', 'site_type', 'sitenum', 'situ', 'size', 'size_1', 'size_100', 'size_15', 'size_150', 'size_2', 'size_20', 'size_200', 'size_25', 'size_250', 'size_3', 'size_30', 'size_35', 'size_4', 'size_40', 'size_45', 'size_5', 'size_50', 'size_6', 'size_biomass_convert', 'size_class', 'size_fraction', 'sl1', 'sl2', 'sl3', 'sl_1', 'sl_10', 'sl_11', 'sl_12', 'sl_13', 'sl_14', 'sl_15', 'sl_16', 'sl_17', 'sl_2', 'sl_3', 'sl_4', 'sl_5', 'sl_6', 'sl_7', 'sl_8', 'sl_9', 'sl_avg', 'slide', 'sliters', 'slope', 'slow', 'sm2', 'smooth', 'smooth_ascidian', 'snail', 'sno', 'snothkns1', 'snothkns2', 'snothkns3', 'snotyp1code', 'snotyp2code', 'snotyp3code', 'so4', 'so4_stdev', 'sod', 'sodium', 'sodium_sulfate', 'sodium_tripolyphosphate', 'soft', 'softcoral_unid', 'sog', 'soil', 'soil_order', 'soils', 'sol', 'sold', 'solid', 'solida', 'solitary', 'solitary_fungia', 'solitary_other', 'solitary_unid2', 'soluble', 'soluble_reactive_p', 'som', 'sonde', 'sorted', 'sorter', 'sound', 'sound_vel', 'sound_vel_2', 'sound_vel_cm', 'sound_vel_dm', 'sound_vel_wm', 'sound_velocity', 'source', 'sourceaa_gly', 'sourceaa_gly_significant_difference', 'sourceaa_lys', 'sourceaa_lys_significant_difference', 'sourceaa_phe', 'sourceaa_phe_significant_difference', 'sourceaa_ser', 'sourceaa_ser_significant_difference', 'south', 'sp_depth', 'sp_depth_m', 'sp_id', 'sp_size', 'sp_species', 'sp_tubes', 'spar', 'spat', 'spawning', 'spcond', 'spe', 'spe_loading', 'spec', 'spec_con', 'species', 'species_code', 'species_max', 'species_names', 'speciesid', 'specific', 'specific_conductance', 'specific_location', 'specimen', 'specimen_accession_numbers', 'specimenid', 'spectra', 'spectrum', 'speed', 'speed_trim', 'speedlog', 'speedlog_long', 'speedlog_trans', 'spfrdoc', 'spfrpoc', 'spfrtoc', 'spirorbid', 'spliceosome', 'spliceosome_pcnt', 'splits', 'spm', 'spm_lpt_conc_pump', 'spm_lpt_conc_pump_qv_odv', 'spm_lpt_conc_pump_stdev', 'spm_spt_conc_pump', 'spm_spt_conc_pump_qv_odv', 'spm_spt_conc_pump_stdev', 'sponge', 'sponge_length', 'sponge_tubes', 'spongeid', 'spongevolume', 'spp', 'sppcode', 'sppname', 'spt', 'spts', 'squalus', 'squalus_acanthias', 'sr_flag', 'sr_tp_conc_bottle', 'sr_tp_conc_bottle_stdev', 'sra', 'sra_accession', 'sra_accession_link', 'srb', 'srb_n2_fixation', 'srb_n2_fixation_se', 'srp', 'srr', 'ss1', 'ss3', 'ss5', 'ssc', 'ssc_fsi', 'sst', 'sst_fsi', 'st1', 'st2', 'st3', 'st4', 'st5', 'st6', 'st7', 'st8', 'st9', 'sta', 'sta_id', 'sta_pi', 'stable', 'stage', 'stage_category', 'stage_id', 'stage_num', 'stand', 'stand_dph', 'standard', 'standard_ave_grams_t0', 'standard_ave_grams_t10', 'standard_ave_grams_t15', 'standard_ave_grams_t20', 'standard_ave_grams_t5', 'standard_deviation', 'star', 'start', 'start_bottom_time', 'start_date', 'start_day', 'start_depth', 'start_dive_time', 'start_gmt', 'start_iso_datetime_utc', 'start_month', 'start_period', 'start_size', 'start_time', 'start_time_local', 'start_year', 'startcode', 'starting', 'starting_dw', 'state', 'static', 'station', 'station_alt', 'station_desc', 'station_description', 'station_geotrc', 'station_id', 'station_number', 'station_std', 'statistics', 'status', 'stbd', 'std', 'std_error_fvfm', 'std_error_sigma', 'std_error_u', 'stderr', 'stdev', 'stdev_attached_blankcorrected', 'stdev_growthrate', 'stemp', 'stenotomus', 'stenotomus_chrysops', 'stephanocoenia', 'stephanocoenia_intercepts', 'sterr', 'stewardship', 'stn', 'stn_event', 'stnnbr', 'stocastic1', 'stocastic10', 'stocastic2', 'stocastic3', 'stocastic4', 'stocastic5', 'stocastic6', 'stocastic7', 'stocastic8', 'stocastic9', 'stoney', 'stop', 'strain', 'strain_id', 'strain_max', 'strain_rate', 'strategy', 'striata', 'strigosa', 'strike', 'strike_distance_mm', 'strike_distance_pixel', 'strike_number', 'strike_species', 'strike_speed_t11ms', 'strike_speed_t14ms', 'strike_speed_t18ms', 'strike_speed_t1ms', 'strike_speed_t22ms', 'strike_speed_t3ms', 'strike_speed_t5ms', 'strike_speed_t7ms', 'strike_speed_t9ms', 'strike_speed_t_2ms', 'strikes', 'study', 'study_number', 'study_type', 'stylaster', 'stypopodium', 'sub', 'sub_project_title', 'subject', 'subject_id', 'submergence', 'subsample', 'subsample_id', 'subsample_size', 'substance', 'substrate', 'sulfamic', 'sulfamic_treated', 'sulfate', 'sulfate_mm', 'sulfate_stdev', 'sulfide', 'sulfide_control1_slow', 'sulfide_control2_slow', 'sulfide_culture1', 'sulfide_culture1_fe', 'sulfide_culture2', 'sulfide_culture2_fe', 'sulfide_culture3', 'sulfide_culture3_fe', 'sulfide_culture4_fe', 'sulfide_um', 'sulfite', 'sulfur', 'sum', 'sum_biomass_class', 'surface', 'surface_salinity', 'surface_temp', 'surface_waves', 'surfacelight_mean', 'surfacelight_se', 'surge', 'surv', 'survey', 'survey_date', 'survey_event', 'survey_id', 'survey_num', 'survey_type', 'survival', 'survived', 'survivors', 'survivors_crowded', 'survivors_difference', 'survivors_isolated', 'survivorship', 'suspension', 'suspension_feeder_cover_score', 'suva254', 'sv_linear_sum', 'sv_mean', 'sv_mean_effort', 'svcm', 'svcm1', 'sweep', 'sweep_bubble_air_rate', 'swim', 'swimmer', 'sxrf', 'sxrf_map_filename', 'sxrf_run', 'sxrf_spectrum_filename', 'sym', 'syn', 'syn_fals', 'syn_red', 'synecho', 'synechococcus', 'synechococcus_spp', 'synechococcus_stdev', 'synechococcusgrazing_coefficient', 'synechococcusgrowth_constant_mean', 'system', 't090', 't090c', 't0_co2_x_1e06', 't0_co3_x_1e06', 't0_dic_x_1e06', 't0_hco3_x_1e06', 't10', 't10ms', 't11ms', 't12ms', 't14ms', 't15', 't16ms', 't18ms', 't190', 't190c', 't1ms', 't1point5ms', 't20', 't20_co2_x_1e06', 't20_co3_x_1e06', 't20_dic_x_1e06', 't20_hco3_x_1e06', 't20ms', 't22ms', 't24', 't24_co2_x_1e06', 't24_co3_x_1e06', 't24_dic_x_1e06', 't24_hco3_x_1e06', 't2_co2_x_1e06', 't2_co3_x_1e06', 't2_dic_x_1e06', 't2_hco3_x_1e06', 't2_t190c', 't2ms', 't30', 't30_co2_x_1e06', 't30_co3_x_1e06', 't30_dic_x_1e06', 't30_hco3_x_1e06', 't3ms', 't4ms', 't5ms', 't6_co2_x_1e06', 't6_co3_x_1e06', 't6_dic_x_1e06', 't6_hco3_x_1e06', 't6ms', 't7ms', 't8ms', 't9ms', 't_alk', 't_s1p1', 't_s1p2', 't_s1p3', 't_s2p3', 't_s2p4', 't_s2p5', 't_s2p6', 't_s3p10', 't_s3p7', 't_s3p8', 't_s3p9', 't_to_b_peak', 't_to_c_peak', 't_to_m_peak', 't_to_n_peak', 'table', 'tablecoral', 'tablecoral_acropora', 'tag', 'tag_color', 'tag_id', 'tag_number', 'tagging', 'tagging_status', 'tank', 'tank_id', 'tank_pco2_ave', 'tank_temp_ave', 'target', 'target_depth', 'target_pco2', 'tau', 'taux', 'tauy', 'taxa', 'taxon', 'taxon_code', 'taxon_group', 'taxon_id_mean', 'taxon_level', 'taxonomy', 'tc_f', 'tc_f_err', 'tc_f_err_swimmer', 'tc_f_swimmer', 'tcho', 'tcho_amount', 'tco2', 'tco2_corrected', 'tdn', 'tdp', 'tds', 'temp', 'temp2', 'temp_0_3m', 'temp_0_5m', 'temp_1_1m', 'temp_2', 'temp_air', 'temp_air2', 'temp_air_port', 'temp_air_stbd', 'temp_avg', 'temp_bottom', 'temp_c', 'temp_counts', 'temp_deg', 'temp_diff', 'temp_in', 'temp_inc', 'temp_insitu', 'temp_level', 'temp_max', 'temp_mean', 'temp_min', 'temp_pir_case', 'temp_pir_hemi', 'temp_sample', 'temp_seawatersurface', 'temp_ss', 'temp_ss1', 'temp_ss3', 'temp_ss5', 'temp_stdev', 'temp_sterr', 'temp_surface', 'temp_treatment', 'tempbottlea', 'tempbottleb', 'tempco', 'temperature', 'temperature_seafet', 'temppro30probea', 'temppro30probeb', 'tension', 'tentacle', 'tentacle_capture', 'tenuis', 'tep', 'tep_avg', 'tep_std', 'term', 'tet', 'tetb_1184', 'tetb_1184_2', 'tetb_24561', 'tetb_24561_2', 'tetb_25745', 'tetb_25745_2', 'tetb_29109', 'tetb_29109_2', 'tetb_5796', 'tetb_5796_2', 'tetb_6231', 'tetb_6231_2', 'tetg_24777', 'tetg_24777_2', 'tetg_26721', 'tetg_26721_2', 'tetg_985', 'tetg_985_2', 'tether', 'tether_along_edge', 'tetr_23415', 'tetr_23415_2', 'tetr_25632', 'tetr_25632_2', 'tety_14528', 'tety_14528_2', 'tety_25176', 'tety_25176_2', 'tety_6326', 'tety_6326_2', 'th234', 'th234_activity', 'th234_pcnt_activity_eps_si_minus', 'th234_pcnt_activity_eps_si_plus', 'th_lpt_conc_pump', 'th_lpt_conc_pump_qv_odv', 'th_lpt_conc_pump_stdev', 'th_sd', 'th_spt_conc_pump', 'th_spt_conc_pump_qv_odv', 'th_spt_conc_pump_stdev', 'thalassiophyllum', 'thalassiophyllum_clathrus_density', 'than', 'thaumarchaeota', 'therm', 'theta', 'theta2', 'thicket', 'thicket2', 'thickness', 'thiosulfate', 'thkns1', 'thkns2', 'thkns3', 'thr', 'thr_d15n', 'thr_st_dev', 'thr_stdev', 'threonine', 'ti_flag', 'ti_hac_l_avg_aerosol', 'ti_hac_l_qf_aerosol', 'ti_hac_l_var_aerosol', 'ti_lpt_conc_pump', 'ti_lpt_conc_pump_qv_odv', 'ti_lpt_conc_pump_stdev', 'ti_spt_conc_pump', 'ti_spt_conc_pump_qv_odv', 'ti_spt_conc_pump_stdev', 'ti_tp_conc_avg_aerosol', 'ti_tp_conc_bottle', 'ti_tp_conc_bottle_stdev', 'ti_tp_conc_qf_aerosol', 'ti_tp_conc_var_aerosol', 'tide', 'tie', 'tile', 'tilt', 'time', 'time2', 'time_accuracy', 'time_central', 'time_day', 'time_days', 'time_diff', 'time_elapsed', 'time_elapsed_hours', 'time_elapsed_min', 'time_end', 'time_end_gmt', 'time_end_utc', 'time_from_t0_to_capture', 'time_gmt', 'time_hours', 'time_hst', 'time_inc_hrs', 'time_inc_min', 'time_local', 'time_local_begin', 'time_local_end', 'time_of_day', 'time_on_tether', 'time_pacific', 'time_period', 'time_point', 'time_point_day', 'time_sample', 'time_sec', 'time_start', 'time_start_gmt', 'time_start_local', 'time_start_utc', 'time_t0', 'time_t1', 'time_t2', 'time_t3', 'time_to_peak_accelation', 'time_utc', 'time_utc_begin', 'time_utc_end', 'time_utc_hhmm_start', 'time_zone', 'time_zone_offset', 'timediff', 'timej', 'timepoint', 'timepoint_days', 'timepoint_name', 'times', 'timezone', 'timing', 'tissue', 'tissue_thickness', 'tissue_type', 'title', 'tl1', 'tl2', 'tl3', 'tl_avg', 'toc', 'toc_avg', 'toc_stderr', 'toc_stdev', 'tocconsumed', 'tocex', 'tocin', 'tocre', 'top', 'topo1', 'topo1code', 'topo2', 'topo2code', 'topo3', 'topo3code', 'topography', 'tos', 'tos_nm', 'tos_sd', 'tot', 'tot_algae', 'total', 'total_acetate_uptake_rate_constant', 'total_adults', 'total_alkalinity', 'total_alkalinity_1100uatm_pco2_mean', 'total_alkalinity_1100uatm_pco2_num_obs', 'total_alkalinity_1100uatm_pco2_stdev', 'total_alkalinity_750uatm_pco2', 'total_alkalinity_750uatm_pco2_mean', 'total_alkalinity_750uatm_pco2_num_obs', 'total_alkalinity_750uatm_pco2_stdev', 'total_alkalinity_mean', 'total_alkalinity_num_obs', 'total_alkalinity_stdev', 'total_ascidian', 'total_bryozoan', 'total_chl_mg', 'total_chl_no_phaeo', 'total_chl_with_phaeo', 'total_displacement', 'total_gastropods', 'total_length', 'total_mass', 'total_n2_fixation', 'total_n2_fixation_se', 'total_num_greater_than_25mm', 'total_num_spat', 'total_par', 'total_par_during_exposure_treatment', 'total_pb', 'total_phytoplankton', 'total_phytoplankton_lt_15um', 'total_polychaete', 'total_prokaryote_biomass_estimates', 'total_prokaryote_cell_density', 'total_prokaryotes', 'total_zero_valent_sulfur', 'total_zero_valent_sulfur_flags', 'totalabundance_mean', 'totalabundance_se', 'totalcatch', 'totalchla', 'totaldin', 'totalfa', 'totaloctocoralcover_mean', 'totaloctocoralcover_se', 'totalrev', 'tow', 'tow_depth', 'tow_duration', 'towed', 'towid', 'tpp', 'tr0', 'track', 'track_line', 'trackdist', 'tracks', 'tracks_completed', 'tran', 'trans', 'trans_counts', 'trans_id', 'trans_len_min', 'trans_no', 'trans_v', 'transcriptome', 'transcriptome_size', 'transducer', 'transect', 'transect_direction', 'transect_distance', 'transect_id', 'transect_m', 'transect_num', 'transect_number', 'transect_pos', 'transect_side', 'transect_width', 'transects', 'transmission', 'transponder', 'transponder_address', 'transponder_deployed', 'transponder_latitude', 'transponder_longitude', 'traps', 'traps_per_depth', 'treat', 'treated', 'treatment', 'treatment_description', 'treatment_feed', 'treatment_grazing', 'treatment_id', 'treatment_pco2', 'treatment_ph', 'treatment_temp', 'trees', 'trenchii', 'tri', 'triacanthus', 'trial', 'trial1', 'trial2', 'trial3', 'trial_n', 'trib_1419', 'trib_1419_2', 'trib_23889', 'trib_23889_2', 'tricho', 'tridacna', 'trig_18144', 'trig_18144_2', 'trig_21378', 'trig_21378_2', 'trig_25362', 'trig_25362_2', 'trim', 'triplicata', 'trips', 'triy_6266', 'triy_6266_2', 'trochus', 'trophic', 'trophic_position', 'trophicaa_ala', 'trophicaa_ala_significant_difference', 'trophicaa_asp', 'trophicaa_asp_significant_difference', 'trophicaa_glx', 'trophicaa_glx_significant_difference', 'trophicaa_ile', 'trophicaa_ile_significant_difference', 'trophicaa_leu', 'trophicaa_leu_significant_difference', 'trophicaa_pro', 'trophicaa_pro_significant_difference', 'trophicaa_val', 'trophicaa_val_significant_difference', 'trt', 'trt_ctrl_ratio', 'trtmt', 'tss', 'ttl', 'ttl_alkalinity', 'ttl_alkalinity_change', 'tube', 'tube_length', 'tube_snail', 'tube_width', 'tubes', 'tubulipora', 'tubulipora_bryozoan', 'tunicate', 'turb', 'turbidity', 'turbiditya', 'turbidityb', 'turbinaria', 'turbinaria_after', 'turbinaria_before', 'turbinaria_log', 'turbinaria_loss', 'turbinaria_loss_g', 'turf', 'turfalgae', 'turfalgae_rubble', 'turfalgae_solidsubstrate', 'turnover', 'turnover_14_ch3coo_mog', 'turnover_h14_co3_mog', 'turnover_srr', 'two', 'two_aminoethylphosphonic_acid', 'twper', 'typ1', 'typ2', 'typ3', 'type', 'types', 'tyr', 'tyr_st_dev', 'tyr_stdev', 'tyrosine', 'u', 'u_m', 'uatm', 'uci', 'ucyn', 'ucyn_a', 'udo', 'uin', 'umol', 'uncategorized', 'uncategorized_invasivemontipora', 'uncategorized_invasivemontipora2', 'uncertainty', 'underwater', 'underwater_video', 'undulatus', 'unfed', 'unfed_phyto_growth_5_to_20um', 'unfed_phyto_growth_gt20um', 'unfed_phyto_growth_lt5um', 'unfed_phyto_growth_std_err_5_to_20um', 'unfed_phyto_growth_std_err_gt20um', 'unfed_phyto_growth_std_err_lt5um', 'unfed_phyto_growth_std_err_total', 'unfed_phyto_growth_total', 'unfert', 'unique', 'units', 'university', 'unsat', 'unsatc22', 'upper', 'upr', 'upright', 'upright_sponge', 'upright_tunicate', 'uptake', 'ura', 'ura_amount', 'ura_pcnt_tcho', 'urchin', 'urchin_biomass_grams', 'urchin_density', 'urchin_diameter_mm', 'urchin_frequency', 'urchins', 'urchins_percentt', 'urophycis', 'urophycis_chuss', 'urophycis_tenuis', 'use', 'usf', 'utc_time', 'utilization', 'utm', 'utm_zone', 'utmx', 'utmy', 'v', 'v_0256_0279', 'v_0279_0304', 'v_0304_0332', 'v_0332_0362', 'v_0362_0395', 'v_0395_0431', 'v_0431_0470', 'v_0470_0512', 'v_0512_0558', 'v_0558_0609', 'v_0609_0664', 'v_0664_0724', 'v_0724_0790', 'v_0790_0861', 'v_0861_0939', 'v_0939_1024', 'v_1024_1117', 'v_1117_1218', 'v_1218_1328', 'v_1328_1448', 'v_1448_1579', 'v_1579_1722', 'v_1722_1878', 'v_1878_2048', 'v_hac_l_avg_aerosol', 'v_hac_l_qf_aerosol', 'v_hac_l_var_aerosol', 'v_lpt_conc_pump', 'v_lpt_conc_pump_qv_odv', 'v_lpt_conc_pump_stdev', 'v_m', 'v_spt_conc_pump', 'v_spt_conc_pump_qv_odv', 'v_spt_conc_pump_stdev', 'v_tp_conc_avg_aerosol', 'v_tp_conc_bottle', 'v_tp_conc_bottle_stdev', 'v_tp_conc_qf_aerosol', 'v_tp_conc_var_aerosol', 'val', 'val_d15n', 'val_st_dev', 'val_stdev', 'valent', 'valine', 'value', 'value_description', 'variance', 'variance_factor', 'varicosa', 'varicosa2', 'vbs', 'vbs_coef', 'vegetation', 'vel', 'velocity', 'venturi', 'venturi_air_flowrate', 'venturi_seawater_flowrate', 'vermetid', 'vessel', 'vial', 'vibrio', 'video', 'video_id', 'video_rep', 'video_transects', 'view', 'village', 'viola', 'violax', 'viral', 'viral_like_particles_vlp', 'virens', 'virus', 'vis', 'visib', 'visible', 'visibleinhibition', 'visit', 'visit_number', 'vivo', 'vlp', 'vo2', 'vo2_stdev', 'vol', 'vol_filt', 'vol_filt2', 'vol_filt_ml', 'vol_net', 'vol_net_km3', 'volfilt', 'volflow', 'volts', 'volume', 'volume_filtered', 'volume_filtered_ml', 'volume_fraction_of_oxygen_in_sea_water', 'vorticity', 'vpdb', 'vtvel', 'water', 'water_depth', 'water_depth_type', 'watersampdate', 'wave', 'wave_energy', 'wavenumber', 'waves', 'waypoint', 'waypoint_id', 'wdir', 'weather', 'week', 'weight', 'weight_dry', 'weight_g', 'weight_kg_total', 'weight_liveoyster', 'weight_packet_total_1', 'weight_packet_total_2', 'weight_shell', 'weight_ttl', 'weight_ug', 'weight_wet', 'weight_wood_only', 'weight_wood_zip', 'weight_wrap_only', 'weight_zip', 'west', 'west_hs', 'west_nh4', 'west_salinity', 'west_se', 'west_sediment_chla', 'west_sediment_chla_se', 'west_temperature', 'west_watercolumn_nh4', 'west_watercolumn_nh4_se', 'west_watercolumn_no3', 'west_watercolumn_no3_se', 'west_watercolumn_po4', 'west_watercolumn_po4_se', 'wet', 'wet_mass', 'wet_weight', 'wetmass', 'wetmass_stdev', 'wgt', 'whale', 'whale_id', 'where', 'whoi', 'whoi_cs_code', 'width', 'width_cm', 'winch', 'winch_no', 'wind', 'wind_dir', 'wind_dir_avg', 'wind_dir_c', 'wind_dir_c_port', 'wind_dir_c_stbd', 'wind_dir_e', 'wind_dir_port', 'wind_dir_r', 'wind_dir_r_port', 'wind_dir_r_stbd', 'wind_dir_stbd', 'wind_direction', 'wind_from_direction', 'wind_speed', 'wind_speed_avg', 'wind_speed_c', 'wind_speed_c_port', 'wind_speed_c_stbd', 'wind_speed_kts', 'wind_speed_kts_port', 'wind_speed_kts_stbd', 'wind_speed_r', 'wind_speed_r_port', 'wind_speed_r_stbd', 'wind_tau_n', 'wind_taux_n', 'wind_tauy_n', 'wind_vel_u', 'wind_vel_v', 'winds', 'windwave', 'winkler', 'winkler_o2_avg', 'winkler_o2_flags', 'wire', 'wire_out', 'wire_rate', 'wire_tension', 'with', 'wm_dm', 'wood', 'wood_mass_final', 'wood_type', 'woods', 'wrap', 'wspd', 'wt_avg_pco2', 'wt_sd_pco2', 'wtcpue', 'wtr', 'x10e6', 'xe_conc', 'xe_conc2', 'xe_flag', 'xe_sat', 'xe_sat_stdev', 'xe_stdev', 'xesat', 'xesat2', 'xgrid', 'y11', 'y11u', 'y23', 'y23l', 'y23u', 'y26', 'y26u', 'y27', 'y27u', 'y4l', 'y4u', 'y9l', 'y9u', 'y_lpt_conc_pump', 'y_lpt_conc_pump_qv_odv', 'y_lpt_conc_pump_stdev', 'y_spt_conc_pump', 'y_spt_conc_pump_qv_odv', 'y_spt_conc_pump_stdev', 'y_tp_conc_bottle', 'y_tp_conc_bottle_stdev', 'year', 'year_cruise_begin', 'year_cruise_end', 'year_end', 'year_start', 'year_utc_begin', 'year_utc_end', 'yearday', 'yearday_gmt', 'years', 'years_1996_1997', 'years_1997_1998', 'years_1998_1999', 'years_1999_2000', 'years_2000_2001', 'years_2001_2002', 'years_2002_2003', 'years_2003_2003', 'years_2004_2005', 'years_2005_2006', 'years_2006_2007', 'years_2007_2008', 'years_2008_2009', 'years_2009_2010', 'years_2010_2011', 'years_2011_2012', 'years_2012_2013', 'years_2013_2014', 'years_2014_2015', 'yezoensis', 'ygrid', 'yield', 'yrday', 'yrday0', 'yrday0_gmt', 'yrday0_utc', 'yrday_gmt', 'yrday_local', 'yrday_new', 'yrday_utc', 'ysi', 'ysi_bp', 'ysi_chl', 'ysi_chlraw', 'ysi_depth', 'ysi_do', 'ysi_dosat', 'ysi_ph', 'ysi_salinity', 'ysi_speccond', 'ysi_temp', 'ysi_time', 'ysi_turbidity', 'yyyymmdd', 'zea', 'zea_corr', 'zeax', 'zero', 'zip', 'zip_size', 'zip_tie_length', 'zlevel1', 'zlevel2', 'zn_lag', 'zoarces', 'zoarces_americanus', 'zone', 'zooanthid', 'zoop', 'zoop_bm_1000', 'zoop_bm_150', 'zoop_bm_2000', 'zoop_bm_500', 'zoop_bm_5000', 'zoop_bm_total', 'zoop_conc', 'zoop_conc_err', 'zoop_f', 'zoop_f_err'), rows=20, value=())"
      ]
     },
     "metadata": {},
     "output_type": "display_data"
    },
    {
     "name": "stdout",
     "output_type": "stream",
     "text": [
      "http://erddap.bco-dmo.org/erddap/categorize/keywords/index.csv\n"
     ]
    }
   ],
   "source": [
    "# collect all the possible categories and build a section widget\n",
    "url = '%s/categorize/index.csv'%server\n",
    "df = pd.read_csv(url)\n",
    "\n",
    "categ = df['Categorize'].values\n",
    "\n",
    "# build the widget\n",
    "resp = ipywidgets.Dropdown(options=categ,description='Category:',rows=10,columns=2)\n",
    "display(resp)\n",
    "\n",
    "def on_value_change(change):\n",
    "    global term\n",
    "    global resp\n",
    "    global cat\n",
    "    cat=change['new']\n",
    "    #global change\n",
    "    url_var='%s/categorize/%s/index.csv'%(server,change['new'])\n",
    "    df_var=pd.read_csv(url_var)\n",
    "    term=df_var['Category'].values\n",
    "    term = ipywidgets.SelectMultiple(options=term,description='%s:'%(change['new']),rows=20,columns=50,layout=ipywidgets.Layout(width='100%', height='200px'))\n",
    "    clear_output(wait=True)\n",
    "    display(resp,term)\n",
    "    print(url_var)\n",
    "\n",
    "resp.observe(on_value_change, names='value')\n"
   ]
  },
  {
   "cell_type": "markdown",
   "metadata": {},
   "source": [
    "## Search BCO-DMO ERDDAP and find the datasets that have the requested parameters\n",
    "Here we query the BCO-DMO ERDDAP for all datasets that have the selected terms from above. \n",
    "* If multiple terms are selected, only return the datasets which have all selected terms.\n",
    "* Send error if no datasets were found. User should try another search above."
   ]
  },
  {
   "cell_type": "code",
   "execution_count": 4,
   "metadata": {
    "scrolled": true
   },
   "outputs": [
    {
     "name": "stdout",
     "output_type": "stream",
     "text": [
      "Datasets for keywords = sxrf (2 datasets)\n",
      "http://erddap.bco-dmo.org/erddap/categorize/keywords/sxrf/index.html\n",
      "================================================================\n",
      "\n",
      "Select the Dataset Title of Interest:\n"
     ]
    },
    {
     "data": {
      "application/vnd.jupyter.widget-view+json": {
       "model_id": "cf9c0ca532804f81b5df264d7b304023",
       "version_major": 2,
       "version_minor": 0
      },
      "text/html": [
       "<p>Failed to display Jupyter Widget of type <code>Select</code>.</p>\n",
       "<p>\n",
       "  If you're reading this message in the Jupyter Notebook or JupyterLab Notebook, it may mean\n",
       "  that the widgets JavaScript is still loading. If this message persists, it\n",
       "  likely means that the widgets JavaScript library is either not installed or\n",
       "  not enabled. See the <a href=\"https://ipywidgets.readthedocs.io/en/stable/user_install.html\">Jupyter\n",
       "  Widgets Documentation</a> for setup instructions.\n",
       "</p>\n",
       "<p>\n",
       "  If you're reading this message in another frontend (for example, a static\n",
       "  rendering on GitHub or <a href=\"https://nbviewer.jupyter.org/\">NBViewer</a>),\n",
       "  it may mean that your frontend doesn't currently support widgets.\n",
       "</p>\n"
      ],
      "text/plain": [
       "Select(layout=Layout(height='initial', width='initial'), options=('Cellular elemental content of individual phytoplankton cells collected during US GEOTRACES North Atlantic Transect cruises in the Subtropical western and eastern North Atlantic Ocean during Oct and Nov, 2010 and Nov. 2011', 'Element quotas of individual Synechococcus cells collected during Bermuda Atlantic Time-series Study (BATS) cruises aboard the R/V Atlantic Explorer between dates 2012-07-11 and 2013-10-13 (Si_in_Syn project)'), value='Cellular elemental content of individual phytoplankton cells collected during US GEOTRACES North Atlantic Transect cruises in the Subtropical western and eastern North Atlantic Ocean during Oct and Nov, 2010 and Nov. 2011')"
      ]
     },
     "metadata": {},
     "output_type": "display_data"
    }
   ],
   "source": [
    "# Get selected and build query.\n",
    "params = term.get_interact_value()\n",
    "d_id = pd.read_csv('https://erddap.bco-dmo.org/erddap/info/index.csv',usecols=['Dataset ID'])\n",
    "\n",
    "# Look for terms in ERDDAP and collect ID's for datasets that have all selected\n",
    "for param in params:\n",
    "    search_url = '%s/categorize/%s/%s/index.html'%(server,resp.value,param)\n",
    "    search_csv = '%s/categorize/%s/%s/index.csv'%(server,resp.value,param)\n",
    "    request = requests.get(search_csv)\n",
    "    \n",
    "    if request.status_code == 500:\n",
    "        error='BCO-DMO does not have data corresponding to the variable:\\n %s'%param\n",
    "        sys.exit(error)\n",
    "        \n",
    "    out = pd.read_csv(search_csv,usecols=['Title','Dataset ID','tabledap'])\n",
    "\n",
    "    print('Datasets for %s = %s (%i datasets)'%(resp.value,param,len(out)))\n",
    "    print(search_url)\n",
    "\n",
    "    d_id = pd.merge(d_id,out)\n",
    "    if len(d_id)<1:\n",
    "        error = 'No datasets containing all of your parameters'\n",
    "        sys.exit(error)\n",
    "\n",
    "    print('================================================================\\n')\n",
    "\n",
    "d_id_wid = ipywidgets.Select(options=d_id['Title'],layout={'width':'initial','height':'initial'}, rows=5)\n",
    "print(\"Select the Dataset Title of Interest:\")\n",
    "display(d_id_wid)"
   ]
  },
  {
   "cell_type": "markdown",
   "metadata": {},
   "source": [
    "## Working with the data in Pandas\n",
    "### Here we import the selected dataset\n",
    "\n",
    "1. Grab all the data associated with the title selected above.\n",
    "1. Put it into a data structure that the user is comfortable working with. In this case, we import the data into a Pandas dataFrame. \n",
    "1. Print out some basic descriptive statistics about the data."
   ]
  },
  {
   "cell_type": "code",
   "execution_count": 5,
   "metadata": {
    "scrolled": true
   },
   "outputs": [
    {
     "name": "stdout",
     "output_type": "stream",
     "text": [
      "http://erddap.bco-dmo.org/erddap/tabledap/bcodmo_dataset_549122.csv?\n"
     ]
    },
    {
     "data": {
      "text/html": [
       "<div>\n",
       "<style scoped>\n",
       "    .dataframe tbody tr th:only-of-type {\n",
       "        vertical-align: middle;\n",
       "    }\n",
       "\n",
       "    .dataframe tbody tr th {\n",
       "        vertical-align: top;\n",
       "    }\n",
       "\n",
       "    .dataframe thead tr th {\n",
       "        text-align: left;\n",
       "    }\n",
       "</style>\n",
       "<table border=\"1\" class=\"dataframe\">\n",
       "  <thead>\n",
       "    <tr>\n",
       "      <th></th>\n",
       "      <th>station_GEOTRC</th>\n",
       "      <th>sta_PI</th>\n",
       "      <th>latitude</th>\n",
       "      <th>longitude</th>\n",
       "      <th>cast_GEOTRC</th>\n",
       "      <th>event_GEOTRC</th>\n",
       "      <th>depth</th>\n",
       "      <th>depth_GEOTRC_CTD_round</th>\n",
       "      <th>sample_GEOTRC</th>\n",
       "      <th>sample_bottle_GEOTRC</th>\n",
       "      <th>...</th>\n",
       "      <th>cell_C</th>\n",
       "      <th>cell_Si</th>\n",
       "      <th>cell_P</th>\n",
       "      <th>cell_S</th>\n",
       "      <th>cell_Mn</th>\n",
       "      <th>cell_Fe</th>\n",
       "      <th>cell_Co</th>\n",
       "      <th>cell_Ni</th>\n",
       "      <th>cell_Cu</th>\n",
       "      <th>cell_Zn</th>\n",
       "    </tr>\n",
       "    <tr>\n",
       "      <th></th>\n",
       "      <th>unitless</th>\n",
       "      <th>unitless</th>\n",
       "      <th>degrees_north</th>\n",
       "      <th>degrees_east</th>\n",
       "      <th>unitless</th>\n",
       "      <th>unitless</th>\n",
       "      <th>m</th>\n",
       "      <th>meters</th>\n",
       "      <th>unitless</th>\n",
       "      <th>unitless</th>\n",
       "      <th>...</th>\n",
       "      <th>mol/cell</th>\n",
       "      <th>mol/cell</th>\n",
       "      <th>mol/cell</th>\n",
       "      <th>mol/cell</th>\n",
       "      <th>mol/cell</th>\n",
       "      <th>mol/cell</th>\n",
       "      <th>mol/cell</th>\n",
       "      <th>mol/cell</th>\n",
       "      <th>mol/cell</th>\n",
       "      <th>mol/cell</th>\n",
       "    </tr>\n",
       "  </thead>\n",
       "  <tbody>\n",
       "    <tr>\n",
       "      <th>count</th>\n",
       "      <td>240.000000</td>\n",
       "      <td>267.000000</td>\n",
       "      <td>267.000000</td>\n",
       "      <td>267.000000</td>\n",
       "      <td>240.000000</td>\n",
       "      <td>240.000000</td>\n",
       "      <td>240.000000</td>\n",
       "      <td>240.000000</td>\n",
       "      <td>240.000000</td>\n",
       "      <td>240.000000</td>\n",
       "      <td>...</td>\n",
       "      <td>2.660000e+02</td>\n",
       "      <td>1.290000e+02</td>\n",
       "      <td>2.610000e+02</td>\n",
       "      <td>1.590000e+02</td>\n",
       "      <td>1.380000e+02</td>\n",
       "      <td>1.580000e+02</td>\n",
       "      <td>1.180000e+02</td>\n",
       "      <td>1.020000e+02</td>\n",
       "      <td>1.070000e+02</td>\n",
       "      <td>2.630000e+02</td>\n",
       "    </tr>\n",
       "    <tr>\n",
       "      <th>mean</th>\n",
       "      <td>8.679167</td>\n",
       "      <td>20.037453</td>\n",
       "      <td>26.041169</td>\n",
       "      <td>-39.055493</td>\n",
       "      <td>2.683333</td>\n",
       "      <td>2605.950000</td>\n",
       "      <td>64.437083</td>\n",
       "      <td>64.354167</td>\n",
       "      <td>6189.020833</td>\n",
       "      <td>21.233333</td>\n",
       "      <td>...</td>\n",
       "      <td>9.916105e-13</td>\n",
       "      <td>2.115033e-14</td>\n",
       "      <td>1.222878e-14</td>\n",
       "      <td>9.728491e-15</td>\n",
       "      <td>1.725039e-17</td>\n",
       "      <td>6.012698e-17</td>\n",
       "      <td>2.792457e-18</td>\n",
       "      <td>4.237650e-17</td>\n",
       "      <td>1.537287e-16</td>\n",
       "      <td>6.370749e-17</td>\n",
       "    </tr>\n",
       "    <tr>\n",
       "      <th>std</th>\n",
       "      <td>4.879423</td>\n",
       "      <td>35.269298</td>\n",
       "      <td>7.924122</td>\n",
       "      <td>20.066607</td>\n",
       "      <td>2.525132</td>\n",
       "      <td>477.980792</td>\n",
       "      <td>27.034726</td>\n",
       "      <td>26.931565</td>\n",
       "      <td>740.430291</td>\n",
       "      <td>2.228508</td>\n",
       "      <td>...</td>\n",
       "      <td>2.008273e-12</td>\n",
       "      <td>1.441950e-13</td>\n",
       "      <td>3.510884e-14</td>\n",
       "      <td>2.042064e-14</td>\n",
       "      <td>1.069376e-16</td>\n",
       "      <td>2.521662e-16</td>\n",
       "      <td>8.441263e-18</td>\n",
       "      <td>2.875732e-16</td>\n",
       "      <td>5.843685e-16</td>\n",
       "      <td>3.687851e-16</td>\n",
       "    </tr>\n",
       "    <tr>\n",
       "      <th>min</th>\n",
       "      <td>1.000000</td>\n",
       "      <td>1.000000</td>\n",
       "      <td>17.350500</td>\n",
       "      <td>-69.813900</td>\n",
       "      <td>1.000000</td>\n",
       "      <td>2084.000000</td>\n",
       "      <td>28.000000</td>\n",
       "      <td>28.000000</td>\n",
       "      <td>5331.000000</td>\n",
       "      <td>18.000000</td>\n",
       "      <td>...</td>\n",
       "      <td>2.350000e-14</td>\n",
       "      <td>0.000000e+00</td>\n",
       "      <td>1.100000e-17</td>\n",
       "      <td>1.390000e-16</td>\n",
       "      <td>3.660000e-21</td>\n",
       "      <td>3.370000e-19</td>\n",
       "      <td>3.270000e-21</td>\n",
       "      <td>4.170000e-21</td>\n",
       "      <td>2.280000e-19</td>\n",
       "      <td>4.440000e-21</td>\n",
       "    </tr>\n",
       "    <tr>\n",
       "      <th>25%</th>\n",
       "      <td>5.000000</td>\n",
       "      <td>5.000000</td>\n",
       "      <td>17.399800</td>\n",
       "      <td>-64.172800</td>\n",
       "      <td>1.000000</td>\n",
       "      <td>2164.000000</td>\n",
       "      <td>40.400000</td>\n",
       "      <td>40.000000</td>\n",
       "      <td>5636.000000</td>\n",
       "      <td>20.000000</td>\n",
       "      <td>...</td>\n",
       "      <td>1.112500e-13</td>\n",
       "      <td>6.630000e-17</td>\n",
       "      <td>4.600000e-16</td>\n",
       "      <td>8.470000e-16</td>\n",
       "      <td>2.175000e-19</td>\n",
       "      <td>2.630000e-18</td>\n",
       "      <td>7.247500e-20</td>\n",
       "      <td>1.372500e-19</td>\n",
       "      <td>2.680000e-18</td>\n",
       "      <td>1.150000e-18</td>\n",
       "    </tr>\n",
       "    <tr>\n",
       "      <th>50%</th>\n",
       "      <td>9.000000</td>\n",
       "      <td>9.000000</td>\n",
       "      <td>26.136840</td>\n",
       "      <td>-31.085700</td>\n",
       "      <td>2.000000</td>\n",
       "      <td>2216.000000</td>\n",
       "      <td>59.100000</td>\n",
       "      <td>59.000000</td>\n",
       "      <td>5979.000000</td>\n",
       "      <td>22.000000</td>\n",
       "      <td>...</td>\n",
       "      <td>2.360000e-13</td>\n",
       "      <td>1.630000e-16</td>\n",
       "      <td>1.220000e-15</td>\n",
       "      <td>1.830000e-15</td>\n",
       "      <td>5.410000e-19</td>\n",
       "      <td>7.725000e-18</td>\n",
       "      <td>1.795000e-19</td>\n",
       "      <td>7.625000e-19</td>\n",
       "      <td>1.130000e-17</td>\n",
       "      <td>3.370000e-18</td>\n",
       "    </tr>\n",
       "    <tr>\n",
       "      <th>75%</th>\n",
       "      <td>12.000000</td>\n",
       "      <td>12.000000</td>\n",
       "      <td>31.746130</td>\n",
       "      <td>-21.999900</td>\n",
       "      <td>5.000000</td>\n",
       "      <td>3078.000000</td>\n",
       "      <td>92.400000</td>\n",
       "      <td>92.000000</td>\n",
       "      <td>6795.000000</td>\n",
       "      <td>24.000000</td>\n",
       "      <td>...</td>\n",
       "      <td>7.725000e-13</td>\n",
       "      <td>6.530000e-16</td>\n",
       "      <td>3.950000e-15</td>\n",
       "      <td>6.155000e-15</td>\n",
       "      <td>1.675000e-18</td>\n",
       "      <td>2.910000e-17</td>\n",
       "      <td>6.532500e-19</td>\n",
       "      <td>4.077500e-18</td>\n",
       "      <td>4.390000e-17</td>\n",
       "      <td>1.570000e-17</td>\n",
       "    </tr>\n",
       "    <tr>\n",
       "      <th>max</th>\n",
       "      <td>20.000000</td>\n",
       "      <td>153.000000</td>\n",
       "      <td>39.684030</td>\n",
       "      <td>-18.254500</td>\n",
       "      <td>9.000000</td>\n",
       "      <td>3222.000000</td>\n",
       "      <td>106.200000</td>\n",
       "      <td>106.000000</td>\n",
       "      <td>7704.000000</td>\n",
       "      <td>24.000000</td>\n",
       "      <td>...</td>\n",
       "      <td>1.350000e-11</td>\n",
       "      <td>1.610000e-12</td>\n",
       "      <td>3.310000e-13</td>\n",
       "      <td>1.110000e-13</td>\n",
       "      <td>9.540000e-16</td>\n",
       "      <td>2.920000e-15</td>\n",
       "      <td>7.220000e-17</td>\n",
       "      <td>2.900000e-15</td>\n",
       "      <td>4.090000e-15</td>\n",
       "      <td>5.400000e-15</td>\n",
       "    </tr>\n",
       "  </tbody>\n",
       "</table>\n",
       "<p>8 rows × 21 columns</p>\n",
       "</div>"
      ],
      "text/plain": [
       "      station_GEOTRC      sta_PI      latitude    longitude cast_GEOTRC  \\\n",
       "            unitless    unitless degrees_north degrees_east    unitless   \n",
       "count     240.000000  267.000000    267.000000   267.000000  240.000000   \n",
       "mean        8.679167   20.037453     26.041169   -39.055493    2.683333   \n",
       "std         4.879423   35.269298      7.924122    20.066607    2.525132   \n",
       "min         1.000000    1.000000     17.350500   -69.813900    1.000000   \n",
       "25%         5.000000    5.000000     17.399800   -64.172800    1.000000   \n",
       "50%         9.000000    9.000000     26.136840   -31.085700    2.000000   \n",
       "75%        12.000000   12.000000     31.746130   -21.999900    5.000000   \n",
       "max        20.000000  153.000000     39.684030   -18.254500    9.000000   \n",
       "\n",
       "      event_GEOTRC       depth depth_GEOTRC_CTD_round sample_GEOTRC  \\\n",
       "          unitless           m                 meters      unitless   \n",
       "count   240.000000  240.000000             240.000000    240.000000   \n",
       "mean   2605.950000   64.437083              64.354167   6189.020833   \n",
       "std     477.980792   27.034726              26.931565    740.430291   \n",
       "min    2084.000000   28.000000              28.000000   5331.000000   \n",
       "25%    2164.000000   40.400000              40.000000   5636.000000   \n",
       "50%    2216.000000   59.100000              59.000000   5979.000000   \n",
       "75%    3078.000000   92.400000              92.000000   6795.000000   \n",
       "max    3222.000000  106.200000             106.000000   7704.000000   \n",
       "\n",
       "      sample_bottle_GEOTRC      ...             cell_C       cell_Si  \\\n",
       "                  unitless      ...           mol/cell      mol/cell   \n",
       "count           240.000000      ...       2.660000e+02  1.290000e+02   \n",
       "mean             21.233333      ...       9.916105e-13  2.115033e-14   \n",
       "std               2.228508      ...       2.008273e-12  1.441950e-13   \n",
       "min              18.000000      ...       2.350000e-14  0.000000e+00   \n",
       "25%              20.000000      ...       1.112500e-13  6.630000e-17   \n",
       "50%              22.000000      ...       2.360000e-13  1.630000e-16   \n",
       "75%              24.000000      ...       7.725000e-13  6.530000e-16   \n",
       "max              24.000000      ...       1.350000e-11  1.610000e-12   \n",
       "\n",
       "             cell_P        cell_S       cell_Mn       cell_Fe       cell_Co  \\\n",
       "           mol/cell      mol/cell      mol/cell      mol/cell      mol/cell   \n",
       "count  2.610000e+02  1.590000e+02  1.380000e+02  1.580000e+02  1.180000e+02   \n",
       "mean   1.222878e-14  9.728491e-15  1.725039e-17  6.012698e-17  2.792457e-18   \n",
       "std    3.510884e-14  2.042064e-14  1.069376e-16  2.521662e-16  8.441263e-18   \n",
       "min    1.100000e-17  1.390000e-16  3.660000e-21  3.370000e-19  3.270000e-21   \n",
       "25%    4.600000e-16  8.470000e-16  2.175000e-19  2.630000e-18  7.247500e-20   \n",
       "50%    1.220000e-15  1.830000e-15  5.410000e-19  7.725000e-18  1.795000e-19   \n",
       "75%    3.950000e-15  6.155000e-15  1.675000e-18  2.910000e-17  6.532500e-19   \n",
       "max    3.310000e-13  1.110000e-13  9.540000e-16  2.920000e-15  7.220000e-17   \n",
       "\n",
       "            cell_Ni       cell_Cu       cell_Zn  \n",
       "           mol/cell      mol/cell      mol/cell  \n",
       "count  1.020000e+02  1.070000e+02  2.630000e+02  \n",
       "mean   4.237650e-17  1.537287e-16  6.370749e-17  \n",
       "std    2.875732e-16  5.843685e-16  3.687851e-16  \n",
       "min    4.170000e-21  2.280000e-19  4.440000e-21  \n",
       "25%    1.372500e-19  2.680000e-18  1.150000e-18  \n",
       "50%    7.625000e-19  1.130000e-17  3.370000e-18  \n",
       "75%    4.077500e-18  4.390000e-17  1.570000e-17  \n",
       "max    2.900000e-15  4.090000e-15  5.400000e-15  \n",
       "\n",
       "[8 rows x 21 columns]"
      ]
     },
     "execution_count": 5,
     "metadata": {},
     "output_type": "execute_result"
    }
   ],
   "source": [
    "# get the dataset ID from the Title selected above\n",
    "dataset_id = d_id.loc[d_id['Title'] == d_id_wid.get_interact_value(),['Dataset ID']].reset_index()\n",
    "\n",
    "# start building the ERDDAP query\n",
    "e.dataset_id = dataset_id['Dataset ID'][0]\n",
    "e.response = 'csv'\n",
    "e.protocol ='tabledap'\n",
    "\n",
    "# print the csv url\n",
    "print(e.get_download_url())\n",
    "\n",
    "# go get the data as a pandas data frame\n",
    "df = e.to_pandas(header=[0,1])\n",
    "df.describe()"
   ]
  },
  {
   "cell_type": "markdown",
   "metadata": {},
   "source": [
    "### Make a map with the imported latitude and longitude data\n",
    "This uses the library **ipyleaflet** to make a geospatial map of the latitude, longitude coordinate pairs."
   ]
  },
  {
   "cell_type": "code",
   "execution_count": 6,
   "metadata": {
    "scrolled": true
   },
   "outputs": [
    {
     "data": {
      "application/vnd.jupyter.widget-view+json": {
       "model_id": "70b9c8170d87412da11a582bff0df1c9",
       "version_major": 2,
       "version_minor": 0
      },
      "text/html": [
       "<p>Failed to display Jupyter Widget of type <code>Map</code>.</p>\n",
       "<p>\n",
       "  If you're reading this message in the Jupyter Notebook or JupyterLab Notebook, it may mean\n",
       "  that the widgets JavaScript is still loading. If this message persists, it\n",
       "  likely means that the widgets JavaScript library is either not installed or\n",
       "  not enabled. See the <a href=\"https://ipywidgets.readthedocs.io/en/stable/user_install.html\">Jupyter\n",
       "  Widgets Documentation</a> for setup instructions.\n",
       "</p>\n",
       "<p>\n",
       "  If you're reading this message in another frontend (for example, a static\n",
       "  rendering on GitHub or <a href=\"https://nbviewer.jupyter.org/\">NBViewer</a>),\n",
       "  it may mean that your frontend doesn't currently support widgets.\n",
       "</p>\n"
      ],
      "text/plain": [
       "Map(basemap={'url': 'https://{s}.tile.openstreetmap.org/{z}/{x}/{y}.png', 'max_zoom': 19, 'attribution': 'Map data (c) <a href=\"https://openstreetmap.org\">OpenStreetMap</a> contributors'}, center=[25.107024545454543, -41.45996], layers=(TileLayer(base=True, max_zoom=19, min_zoom=1, options=['attribution', 'detect_retina', 'max_zoom', 'min_zoom', 'tile_size']), MarkerCluster(markers=(Marker(location=[17.3505, -69.8139], options=['alt', 'draggable', 'keyboard', 'rise_offset', 'rise_on_hover', 'title', 'z_index_offset']), Marker(location=[17.3998, -64.1728], options=['alt', 'draggable', 'keyboard', 'rise_offset', 'rise_on_hover', 'title', 'z_index_offset']), Marker(location=[17.6857, -61.558], options=['alt', 'draggable', 'keyboard', 'rise_offset', 'rise_on_hover', 'title', 'z_index_offset']), Marker(location=[21.561, -44.8262], options=['alt', 'draggable', 'keyboard', 'rise_offset', 'rise_on_hover', 'title', 'z_index_offset']), Marker(location=[22.33304, -42.5218], options=['alt', 'draggable', 'keyboard', 'rise_offset', 'rise_on_hover', 'title', 'z_index_offset']), Marker(location=[25.14126, -35.867], options=['alt', 'draggable', 'keyboard', 'rise_offset', 'rise_on_hover', 'title', 'z_index_offset']), Marker(location=[26.13684, -31.0857], options=['alt', 'draggable', 'keyboard', 'rise_offset', 'rise_on_hover', 'title', 'z_index_offset']), Marker(location=[26.136870000000002, -24.4998], options=['alt', 'draggable', 'keyboard', 'rise_offset', 'rise_on_hover', 'title', 'z_index_offset']), Marker(location=[31.0021, -21.9999], options=['alt', 'draggable', 'keyboard', 'rise_offset', 'rise_on_hover', 'title', 'z_index_offset']), Marker(location=[31.746129999999997, -18.2545], options=['alt', 'draggable', 'keyboard', 'rise_offset', 'rise_on_hover', 'title', 'z_index_offset'])))), layout=Layout(height='300px', width='100%'), options=['attribution_control', 'basemap', 'bounce_at_zoom_limits', 'box_zoom', 'center', 'close_popup_on_click', 'double_click_zoom', 'dragging', 'inertia', 'inertia_deceleration', 'inertia_max_speed', 'interpolation', 'keyboard', 'keyboard_pan_offset', 'keyboard_zoom_offset', 'max_zoom', 'min_zoom', 'scroll_wheel_zoom', 'tap', 'tap_tolerance', 'touch_zoom', 'world_copy_jump', 'zoom', 'zoom_animation_threshold', 'zoom_control', 'zoom_start'], zoom=3)"
      ]
     },
     "metadata": {},
     "output_type": "display_data"
    }
   ],
   "source": [
    "## plot all the points\n",
    "from ipyleaflet import Map, basemaps, basemap_to_tiles, Marker, MarkerCluster\n",
    "\n",
    "longitudes = np.unique(df.longitude.values)\n",
    "latitudes = np.unique(df.latitude.values)\n",
    "\n",
    "markers = []\n",
    "\n",
    "for lon,lat in zip(longitudes, latitudes):\n",
    "    markers.append(Marker(location=(lat, lon)))\n",
    "    \n",
    "m = Map(center=(np.mean(latitudes),np.mean(longitudes)),zoom=3)\n",
    "    \n",
    "marker_cluster = MarkerCluster(\n",
    "    markers=markers\n",
    ")\n",
    "\n",
    "m.add_layer(marker_cluster);\n",
    "m.layout.width = '100%'\n",
    "m.layout.height = '300px'\n",
    "m"
   ]
  },
  {
   "cell_type": "markdown",
   "metadata": {},
   "source": [
    "### Further interrogate the data\n",
    "Here we use the **pandas** library to make a profile scatter plot of the variable *cell_C*.\n"
   ]
  },
  {
   "cell_type": "code",
   "execution_count": 7,
   "metadata": {},
   "outputs": [
    {
     "data": {
      "image/png": "[encoded data removed]",
      "text/plain": [
       "<matplotlib.figure.Figure at 0x10dfc0160>"
      ]
     },
     "metadata": {
      "needs_background": "light"
     },
     "output_type": "display_data"
    }
   ],
   "source": [
    "ax = df.plot.scatter(x = 'cell_C', y ='depth',\\\n",
    "                    xlim=(df['cell_C'].min()[0],df['cell_C'].max()[0]))\n",
    "ax.invert_yaxis()"
   ]
  },
  {
   "cell_type": "code",
   "execution_count": null,
   "metadata": {},
   "outputs": [],
   "source": []
  }
 ],
 "metadata": {
  "kernelspec": {
   "display_name": "Python 3",
   "language": "python",
   "name": "python3"
  },
  "language_info": {
   "codemirror_mode": {
    "name": "ipython",
    "version": 3
   },
   "file_extension": ".py",
   "mimetype": "text/x-python",
   "name": "python",
   "nbconvert_exporter": "python",
   "pygments_lexer": "ipython3",
   "version": "3.6.8"
  }
 },
 "nbformat": 4,
 "nbformat_minor": 2
}
